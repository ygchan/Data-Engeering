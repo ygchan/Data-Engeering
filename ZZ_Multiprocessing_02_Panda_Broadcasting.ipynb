{
 "cells": [
  {
   "cell_type": "code",
   "execution_count": 1,
   "metadata": {},
   "outputs": [],
   "source": [
    "# Now the next question:\n",
    "# Can we improve even more from yesterday?\n",
    "\n",
    "# I thought about this tonight as I am coming home from\n",
    "# Micro Center. What if we turn the classification problem\n",
    "# into a mathematical problem?"
   ]
  },
  {
   "cell_type": "code",
   "execution_count": 2,
   "metadata": {},
   "outputs": [],
   "source": [
    "# First in ordre to determine if a given health insurance \n",
    "# claim is Professional or Institutional.\n",
    "\n",
    "# form_code: type of Medicaid Form\n",
    "# 0 = U (Institutional), 1 = H (Professional)\n",
    "\n",
    "# ipop_ind : inpatient or outpatient indicator\n",
    "# 0 = inpatient, 1 = outpatient"
   ]
  },
  {
   "cell_type": "code",
   "execution_count": 3,
   "metadata": {},
   "outputs": [],
   "source": [
    "# The logics go like this\n",
    "# If form_code is H, then Professional\n",
    "# Else if ipop_ind is 0 then Inpatient (Institutional)\n",
    "# Else Outpatient (Institutional)\n",
    "\n",
    "# In this particular problem, these are the three classification.\n",
    "# How can I model this as basic math?"
   ]
  },
  {
   "cell_type": "code",
   "execution_count": 4,
   "metadata": {},
   "outputs": [],
   "source": [
    "# Idea: Multiple the two columns\n",
    "# form_code * ipopind = (answer)\n",
    "\n",
    "# Professional P: 0 * (any inpatient code) is 0\n",
    "# Institutional IP: 1 * (1 Inpatient) is 1\n",
    "# Institutional OP: 1 * (2 Outpatient) is 2"
   ]
  },
  {
   "cell_type": "code",
   "execution_count": 19,
   "metadata": {},
   "outputs": [],
   "source": [
    "# Finally the outcome will be 0, 1, 2"
   ]
  },
  {
   "cell_type": "code",
   "execution_count": 20,
   "metadata": {},
   "outputs": [],
   "source": [
    "# Let's code it up and see what happen :)\n",
    "# I wonder if it will yeld any sort of performance improvement.\n",
    "# Really excited to try even if it does not work."
   ]
  },
  {
   "cell_type": "code",
   "execution_count": 35,
   "metadata": {},
   "outputs": [],
   "source": [
    "import pandas as pd\n",
    "import numpy as np"
   ]
  },
  {
   "cell_type": "code",
   "execution_count": 53,
   "metadata": {},
   "outputs": [
    {
     "name": "stdout",
     "output_type": "stream",
     "text": [
      "(1000000, 2)\n"
     ]
    },
    {
     "data": {
      "text/html": [
       "<div>\n",
       "<style scoped>\n",
       "    .dataframe tbody tr th:only-of-type {\n",
       "        vertical-align: middle;\n",
       "    }\n",
       "\n",
       "    .dataframe tbody tr th {\n",
       "        vertical-align: top;\n",
       "    }\n",
       "\n",
       "    .dataframe thead th {\n",
       "        text-align: right;\n",
       "    }\n",
       "</style>\n",
       "<table border=\"1\" class=\"dataframe\">\n",
       "  <thead>\n",
       "    <tr style=\"text-align: right;\">\n",
       "      <th></th>\n",
       "      <th>form_code</th>\n",
       "      <th>ipop_ind</th>\n",
       "    </tr>\n",
       "  </thead>\n",
       "  <tbody>\n",
       "    <tr>\n",
       "      <td>0</td>\n",
       "      <td>0</td>\n",
       "      <td>1</td>\n",
       "    </tr>\n",
       "    <tr>\n",
       "      <td>1</td>\n",
       "      <td>0</td>\n",
       "      <td>2</td>\n",
       "    </tr>\n",
       "    <tr>\n",
       "      <td>2</td>\n",
       "      <td>0</td>\n",
       "      <td>1</td>\n",
       "    </tr>\n",
       "    <tr>\n",
       "      <td>3</td>\n",
       "      <td>1</td>\n",
       "      <td>2</td>\n",
       "    </tr>\n",
       "    <tr>\n",
       "      <td>4</td>\n",
       "      <td>0</td>\n",
       "      <td>1</td>\n",
       "    </tr>\n",
       "  </tbody>\n",
       "</table>\n",
       "</div>"
      ],
      "text/plain": [
       "   form_code  ipop_ind\n",
       "0          0         1\n",
       "1          0         2\n",
       "2          0         1\n",
       "3          1         2\n",
       "4          0         1"
      ]
     },
     "execution_count": 53,
     "metadata": {},
     "output_type": "execute_result"
    }
   ],
   "source": [
    "df = None\n",
    "sample_size = 1000000\n",
    "\n",
    "def reset_df():\n",
    "    global df\n",
    "    # randint -- [lowbound, upbound)\n",
    "    # randint(1, 2) -- [0, 2) \n",
    "    # this will generate 0 or 1, because 2 is not included\n",
    "\n",
    "    # 100K rows\n",
    "    df = pd.DataFrame(np.random.randint(0, 2, size=(sample_size, 2)),\n",
    "                      columns=[\"form_code\", \"ipop_ind\"])\n",
    "\n",
    "    # Using broadcasting to increment test data\n",
    "    df = df + [0, 1]\n",
    "\n",
    "reset_df()\n",
    "# Check the size of dataframe\n",
    "print(df.shape)\n",
    "df.head()"
   ]
  },
  {
   "cell_type": "code",
   "execution_count": 45,
   "metadata": {
    "scrolled": false
   },
   "outputs": [
    {
     "name": "stdout",
     "output_type": "stream",
     "text": [
      "3.45 ms ± 180 µs per loop (mean ± std. dev. of 7 runs, 100 loops each)\n"
     ]
    },
    {
     "data": {
      "text/html": [
       "<div>\n",
       "<style scoped>\n",
       "    .dataframe tbody tr th:only-of-type {\n",
       "        vertical-align: middle;\n",
       "    }\n",
       "\n",
       "    .dataframe tbody tr th {\n",
       "        vertical-align: top;\n",
       "    }\n",
       "\n",
       "    .dataframe thead th {\n",
       "        text-align: right;\n",
       "    }\n",
       "</style>\n",
       "<table border=\"1\" class=\"dataframe\">\n",
       "  <thead>\n",
       "    <tr style=\"text-align: right;\">\n",
       "      <th></th>\n",
       "      <th>form_code</th>\n",
       "      <th>ipop_ind</th>\n",
       "      <th>claim_type</th>\n",
       "    </tr>\n",
       "  </thead>\n",
       "  <tbody>\n",
       "    <tr>\n",
       "      <td>0</td>\n",
       "      <td>1</td>\n",
       "      <td>1</td>\n",
       "      <td>1</td>\n",
       "    </tr>\n",
       "    <tr>\n",
       "      <td>1</td>\n",
       "      <td>0</td>\n",
       "      <td>2</td>\n",
       "      <td>0</td>\n",
       "    </tr>\n",
       "    <tr>\n",
       "      <td>2</td>\n",
       "      <td>0</td>\n",
       "      <td>2</td>\n",
       "      <td>0</td>\n",
       "    </tr>\n",
       "    <tr>\n",
       "      <td>3</td>\n",
       "      <td>1</td>\n",
       "      <td>2</td>\n",
       "      <td>2</td>\n",
       "    </tr>\n",
       "    <tr>\n",
       "      <td>4</td>\n",
       "      <td>0</td>\n",
       "      <td>2</td>\n",
       "      <td>0</td>\n",
       "    </tr>\n",
       "  </tbody>\n",
       "</table>\n",
       "</div>"
      ],
      "text/plain": [
       "   form_code  ipop_ind  claim_type\n",
       "0          1         1           1\n",
       "1          0         2           0\n",
       "2          0         2           0\n",
       "3          1         2           2\n",
       "4          0         2           0"
      ]
     },
     "execution_count": 45,
     "metadata": {},
     "output_type": "execute_result"
    }
   ],
   "source": [
    "%timeit df[\"claim_type\"] = df[\"form_code\"] * df[\"ipop_ind\"]\n",
    "\n",
    "df.head(5)"
   ]
  },
  {
   "cell_type": "code",
   "execution_count": 46,
   "metadata": {},
   "outputs": [
    {
     "name": "stdout",
     "output_type": "stream",
     "text": [
      "16.6 ms ± 120 µs per loop (mean ± std. dev. of 7 runs, 100 loops each)\n",
      "            form_code  ipop_ind\n",
      "claim_type                     \n",
      "0              500102    500102\n",
      "1              249634    249634\n",
      "2              250264    250264\n"
     ]
    }
   ],
   "source": [
    "%timeit df.groupby([\"claim_type\"]).count()\n",
    "\n",
    "print(df.groupby([\"claim_type\"]).count())"
   ]
  },
  {
   "cell_type": "code",
   "execution_count": 24,
   "metadata": {},
   "outputs": [],
   "source": [
    "# This even faster the 4 cores multi-processing solution\n",
    "# from yesterday. By order of magnitude of 4. 1000X faster."
   ]
  },
  {
   "cell_type": "code",
   "execution_count": 25,
   "metadata": {},
   "outputs": [],
   "source": [
    "# In this case, I don't think running them off multiple worker\n",
    "# will be nesscary. But as practice and exploration.\n",
    "\n",
    "# I suspect the overhead will be more expensive (slow)."
   ]
  },
  {
   "cell_type": "code",
   "execution_count": 28,
   "metadata": {},
   "outputs": [
    {
     "name": "stdout",
     "output_type": "stream",
     "text": [
      "INFO: Pandarallel will run on 4 workers.\n",
      "INFO: Pandarallel will use Memory file system to transfer data between the main process and workers.\n",
      "7 s ± 102 ms per loop (mean ± std. dev. of 7 runs, 1 loop each)\n"
     ]
    }
   ],
   "source": [
    "from pandarallel import pandarallel\n",
    "from math import sin\n",
    "\n",
    "pandarallel.initialize()\n",
    "\n",
    "def update_standard(x):\n",
    "    return x.form_code * x.ipop_ind\n",
    "\n",
    "reset_df()\n",
    "%timeit df['claim_type'] = df.parallel_apply(update_standard, axis=1)"
   ]
  },
  {
   "cell_type": "code",
   "execution_count": 29,
   "metadata": {},
   "outputs": [],
   "source": [
    "# This look like a apply method didn't write properly."
   ]
  },
  {
   "cell_type": "code",
   "execution_count": 30,
   "metadata": {},
   "outputs": [],
   "source": [
    "# Let's move on to see how much imrpovement\n",
    "# If there are extra juice to sqeeze out if we write this in numpy."
   ]
  },
  {
   "cell_type": "code",
   "execution_count": 101,
   "metadata": {
    "scrolled": true
   },
   "outputs": [
    {
     "data": {
      "text/plain": [
       "array([[1, 1],\n",
       "       [0, 2],\n",
       "       [0, 1],\n",
       "       ...,\n",
       "       [1, 1],\n",
       "       [1, 2],\n",
       "       [1, 1]])"
      ]
     },
     "execution_count": 101,
     "metadata": {},
     "output_type": "execute_result"
    }
   ],
   "source": [
    "# This is the numpy array of the same version above\n",
    "data = np.random.randint(0, 2, size=(sample_size, 2))\n",
    "data = data + [0, 1]\n",
    "data"
   ]
  },
  {
   "cell_type": "code",
   "execution_count": 102,
   "metadata": {},
   "outputs": [
    {
     "data": {
      "text/plain": [
       "array([1, 0, 0, ..., 1, 1, 1])"
      ]
     },
     "execution_count": 102,
     "metadata": {},
     "output_type": "execute_result"
    }
   ],
   "source": [
    "# https://stackoverflow.com/questions/4455076/how-to-access-the-ith-column-of-a-numpy-multidimensional-array\n",
    "# Reference: How to get the first columns \n",
    "data[:,0]"
   ]
  },
  {
   "cell_type": "code",
   "execution_count": 103,
   "metadata": {},
   "outputs": [
    {
     "data": {
      "text/plain": [
       "array([1, 2, 1, ..., 1, 2, 1])"
      ]
     },
     "execution_count": 103,
     "metadata": {},
     "output_type": "execute_result"
    }
   ],
   "source": [
    "data[:,1]"
   ]
  },
  {
   "cell_type": "code",
   "execution_count": 104,
   "metadata": {},
   "outputs": [
    {
     "data": {
      "text/plain": [
       "(1000000,)"
      ]
     },
     "execution_count": 104,
     "metadata": {},
     "output_type": "execute_result"
    }
   ],
   "source": [
    "claim_type = data[:,0] * data[:,1]\n",
    "claim_type.shape"
   ]
  },
  {
   "cell_type": "code",
   "execution_count": 105,
   "metadata": {},
   "outputs": [
    {
     "data": {
      "text/plain": [
       "array([[1, 1, 1],\n",
       "       [0, 0, 2],\n",
       "       [0, 0, 1],\n",
       "       ...,\n",
       "       [1, 1, 1],\n",
       "       [1, 2, 2],\n",
       "       [1, 1, 1]])"
      ]
     },
     "execution_count": 105,
     "metadata": {},
     "output_type": "execute_result"
    }
   ],
   "source": [
    "# TypeError: data type not understood\n",
    "np.insert(data, -1, claim_type, axis=1)"
   ]
  },
  {
   "cell_type": "code",
   "execution_count": 106,
   "metadata": {
    "scrolled": false
   },
   "outputs": [
    {
     "name": "stdout",
     "output_type": "stream",
     "text": [
      "9.12 ms ± 124 µs per loop (mean ± std. dev. of 7 runs, 100 loops each)\n"
     ]
    }
   ],
   "source": [
    "%timeit new_data = np.insert(data, -1, (data[:,0] * data[:,1]), axis=1)"
   ]
  },
  {
   "cell_type": "code",
   "execution_count": 107,
   "metadata": {},
   "outputs": [],
   "source": [
    "# The documentation online is correct base on\n",
    "# this one simple example. Pandas with broadcast/map on >100K rows\n",
    "# Pandas' performance is excellent."
   ]
  }
 ],
 "metadata": {
  "kernelspec": {
   "display_name": "Python 3",
   "language": "python",
   "name": "python3"
  },
  "language_info": {
   "codemirror_mode": {
    "name": "ipython",
    "version": 3
   },
   "file_extension": ".py",
   "mimetype": "text/x-python",
   "name": "python",
   "nbconvert_exporter": "python",
   "pygments_lexer": "ipython3",
   "version": "3.7.4"
  }
 },
 "nbformat": 4,
 "nbformat_minor": 2
}
