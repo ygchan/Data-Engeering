{
 "cells": [
  {
   "cell_type": "code",
   "execution_count": 1,
   "metadata": {},
   "outputs": [],
   "source": [
    "# Practice web scraping using BS4\n",
    "# Website: Craigslist - Because I want to get a new PC :)\n",
    "\n",
    "import requests\n",
    "import re\n",
    "from bs4 import BeautifulSoup"
   ]
  },
  {
   "cell_type": "code",
   "execution_count": 2,
   "metadata": {},
   "outputs": [],
   "source": [
    "# Writing a function with argument to handle brand\n",
    "# list to store all the result\n",
    "search_result = []\n",
    "\n",
    "def Read_Craigslist(page_url, brand=None):\n",
    "    '''\n",
    "        Helper function\n",
    "        Put it in a function and loop for a couple of results\n",
    "        Take a string page_url and check for new mac listings\n",
    "    ''' \n",
    "    data = requests.get(page_url)\n",
    "\n",
    "    # load data into bs4\n",
    "    soup = BeautifulSoup(data.text, \"html.parser\")\n",
    "    \n",
    "    # look for the result-info <p> tags\n",
    "    result_info = soup.find_all('p', {'class':'result-info'})\n",
    "\n",
    "    # each result-info tag has one listing\n",
    "    for result in result_info:\n",
    "        # title of the post item\n",
    "        title = result.find('a', {'class':\"result-title hdrlnk\"}).text\n",
    "        title_str = title.lower()\n",
    "        \n",
    "        # price of the post item\n",
    "        price = result.find('span', {'class':'result-price'}).text\n",
    "        price = int(price.replace('$', ''))\n",
    "\n",
    "        # find the year (20XX)\n",
    "        year_re = re.compile(r'(20\\d{2})')\n",
    "        match = year_re.search(title)\n",
    "\n",
    "        # from experience, usually if it is cheaper than $100\n",
    "        # it is usually parts, box, or questionable listing.\n",
    "        if price < 100 :\n",
    "            continue\n",
    "            \n",
    "        # if the brand option argument is present\n",
    "        if brand: \n",
    "            if brand not in title_str:\n",
    "                continue\n",
    "            \n",
    "        # This is greatly shorten, need more review to document\n",
    "        # result.find_all() return a list\n",
    "        # we know by analysis that the link is in the first element\n",
    "        # and need to retrieve the link using the 'href' index\n",
    "        link = result.find_all('a', href=True)[0]['href']\n",
    "        link_str = link if \"https://\" in link else \"NA\"\n",
    "\n",
    "        if match:\n",
    "            # Extract the year from title\n",
    "            year = match.group()\n",
    "        else:\n",
    "            # for the listing we can't find in the title\n",
    "            # we will need to visit the page\n",
    "            listing_html = requests.get(link_str)\n",
    "            soup2 = BeautifulSoup(listing_html.text, \"html.parser\")\n",
    "            body_info = soup2.find('section', {'id': 'postingbody'})\n",
    "            match_attemp2 = year_re.search(body_info.text)\n",
    "            year = match_attemp2.group() if match_attemp2 else \"NA\"\n",
    "\n",
    "        # determine if what type of machine it is\n",
    "        if 'imac' in title_str or 'desktop' in title_str:\n",
    "            cat = 'desktop'\n",
    "        elif 'macbook' in title_str or 'laptop' in title_str:\n",
    "            cat = 'laptop'\n",
    "        elif 'mac pro' in title_str or \"mac mini\" in title_str:\n",
    "            cat = 'desktop'\n",
    "        else:\n",
    "            cat = \"NA\"\n",
    "\n",
    "        # display result with piple delimiter\n",
    "        new_item = [cat, price, year, title_str, link_str]\n",
    "\n",
    "        # print the information to the terminal as feedback\n",
    "        for item in new_item[0:4]:\n",
    "            # limit to only 50 characters max\n",
    "            print(str(item).ljust(10)[:50], end='')\n",
    "        print() # return to new line\n",
    "        \n",
    "        # if you want to see the link\n",
    "        # print('\\n' + new_item[4].strip())\n",
    "\n",
    "        search_result.append(new_item)"
   ]
  },
  {
   "cell_type": "code",
   "execution_count": 3,
   "metadata": {},
   "outputs": [
    {
     "name": "stdout",
     "output_type": "stream",
     "text": [
      "desktop   140       2006      mac pro with 1tb hard drive\n",
      "desktop   250       2012      ✅ 16gb mac mini 2.5ghz i5 late 2012, 500gb hd maco\n",
      "desktop   600       2010      mac pro 2010 3.33 ghz 6-core 16gb ram + 2tb hard d\n",
      "desktop   425       2010      mac pro 2010 tower 16 gbs ram quad core fast 3.46 \n",
      "desktop   2300      2013      brand new mac pro 3.5ghz 6c 16gb ram 512gb dual at\n",
      "desktop   670       2018      2018 apple mac mini - 3.6ghz intel i3 - 128gb ssd \n",
      "desktop   225       NA        8core macpro 2.8ghz, 500hd, 8gb ram macos 10.11 el\n",
      "laptop    460       2013      macbook pro 15\"\n",
      "desktop   800       2014      apple mac mini 16 gb ram 1.12 tb & display 27”\n",
      "laptop    600       2010      macbook pro 15.4 2010\n",
      "laptop    225       2011      apple mac macbook a1181 white laptop core 2 duo 2g\n",
      "laptop    625       2010      apple mac macbook pro 15\" laptop i5 8 gb ram\n",
      "laptop    300       2008      apple mac macbook pro a1278 laptop core 2 duo 2.26\n",
      "desktop   130       2010      ✅ mac mini 2.4ghz core 2duo, 4gb ram 320hd macos 1\n",
      "desktop   300       2000      tenba flight softcase for mac pro and other towers\n",
      "laptop    200       2011      apple macbook unibody osx high sierra webcam mac m\n",
      "desktop   200       2009      mac pro 2009\n",
      "desktop   600       2010      apple mac pro 2010 | 3.33 ghz 6 core | 32 gb | 1tb\n",
      "desktop   230       2012      mac mini intel core i5 2.5 ghz 500gb hd 4 gb ram o\n",
      "desktop   300       2014      mac mini late 2014\n",
      "NA        220       NA        nvidia quadro k5000 4gb graphics card mac edition\n",
      "NA        250       2014      ✅ 2014 i5 mac min, 500gb hd macos 10.13 catalina\n",
      "desktop   2000      2013      apple mac pro 2013\n",
      "desktop   899       2012      mac mini  \n",
      "desktop   800       NA        mac pro 12 core, rx580 8gb video card, 500gb ssd m\n",
      "desktop   1100      2010      mac pro 5,1/ 3.46ghz 12 core. 32gb ram. rx 580 8gb\n",
      "laptop    650       2010      apple mac macbook pro 15\" laptop i5 8 gb ram\n",
      "desktop   450       NA        macpro 5,1 3.46ghz 4core, 16gb, 1tb hd macos 10.13\n",
      "NA        129       2006      apple i mac 24 inches 256hd .4 g  memory\n",
      "laptop    450       2012      apple mac macbook pro a1278 laptop i5 8 gb ram\n",
      "NA        850       2017      mac book air late 2017\n",
      "desktop   125       2007      2007 mac pro 2 x 2.66 ghz dual core, 2tb hard driv\n",
      "desktop   300       2008      mac pro (early 2008) 8-core\n",
      "laptop    200       2011      apple macbook unibody osx high sierra webcam mac m\n",
      "desktop   350       2008      mac pro (early 2008) 8-core\n",
      "desktop   2350      NA        *new* mac pro desktop 3.5 ghz 6-core, 512gb ssd 16\n",
      "desktop   2300      2013      mac pro 2013 8 core 3.0ghz, 64gb ram, 1tb ssd, d50\n",
      "desktop   650       NA        mac mini brand new in box with apple 1 terabyte fu\n",
      "NA        100       NA        mac / pc software\n",
      "desktop   425       2014      2014 mac mini plus extras\n",
      "desktop   250       2014      mac mini computer for sale\n",
      "desktop   650       2013      imac 27 late 2013\n",
      "NA        150       2011      mac book pro late 2011\n",
      "desktop   325       2012      apple mac mini \"core i5\" 2.5 (late 2012)\n",
      "laptop    200       2011      apple macbook unibody osx high sierra webcam mac m\n",
      "NA        425       2014      mac book pro 13inch\n",
      "desktop   749       2010      apple mac pro 2010 intel xeon 8-core 2.40ghz 32gb \n",
      "desktop   550       2012      mac mini 512 ssd 16gb i7 quad core workhorse\n",
      "desktop   400       2012      mac mini  \n",
      "desktop   350       2011      mac mini late 2011 - 2.0ghz i7 16gb ram\n",
      "desktop   1475      2013      apple mac pro 6,1 a1481 (2013): 6 core, 1tb, 32gb,\n",
      "desktop   200       2011      apple mac mini   (mid 2011) core i7  2x 500gb hdd\n",
      "NA        495       NA        vintage  apple power mac cube g4 -monitor + many p\n",
      "desktop   175       2010      apple mac mini 2010 *warrantied*\n",
      "desktop   999       2010      apple mac pro 2010 5,1 2.8ghz quad-core w/ 3 black\n",
      "desktop   2000      2013      apple mac pro with 21\" acer monitor, keyboard, and\n",
      "desktop   600       NA        mac pro 5.1 12core\n",
      "desktop   2300      2013      mac pro 2013\n",
      "desktop   700       NA        mac pro 5.1 12 core 2x3.33\n",
      "desktop   400       NA        mac pro 5.1 6core 3.33\n",
      "desktop   1900      2013      mac pro 2013\n",
      "desktop   200       2008      mac pro 2008 8core\n",
      "NA        200       NA        adobe creative suite 5.5 design premium upgrade fo\n",
      "desktop   500       2010      **priced to sell fast** 12-core 2010 mac pro\n",
      "desktop   350       2047      apple mac pro 5,1. 500gb ssd, 6-core  3.33ghz west\n",
      "desktop   2500      2013      mac pro 6,1 for sale! 12-core - 1tb - 32gb - dual \n",
      "laptop    290       NA        macbook pro 13-inch 2.4ghz intel core 2 duo 8gb ra\n",
      "laptop    185       NA        macbook pro 15\" i5 2.53ghz 250gb hard drive and 4g\n",
      "laptop    900       NA        macbook pro 15\" 1tb ssd, 16gb ram, dual graphics, \n",
      "laptop    1450      2016      macbook pro 15-inch 2016\n",
      "laptop    760       2019      2019 space gray retina macbook air with i5 128gb s\n",
      "laptop    800       NA        loaded macbook pro 15.4\" intel i7 2.6ghz 16gb ram \n",
      "laptop    800       NA        loaded macbook pro 15.4\" intel i7 2.6ghz 16gb ram \n",
      "laptop    1400      2016      15\" macbook pro touchbar mojave, 2.8ghz, 256gb ssd\n",
      "laptop    500       2015      12” macbook 2015\n",
      "laptop    1200      2014      spectacular macbook pro 15\" mid-2014\n",
      "laptop    900       2016      macbook pro 15''with touchbar\n",
      "laptop    550       2013      15\" retina macbook pro (late 2013, quad core i7/16\n",
      "laptop    500       2014      15\" macbook pro(bought in 2014) 2.3 quad-core i7/8\n",
      "laptop    425       2013      retina macbook pro 13\", late 2013, 2.4ghz i5/8gb/2\n",
      "laptop    1050      2018      unused touchbar 2018 macbook pro, apple care (2 av\n",
      "laptop    550       2013      15\" retina macbook pro, 2.6ghz quad i7/8gb/500gb\n",
      "laptop    250       2011      macbook pro 13'' cs6, logic x, final cut pro, ms o\n",
      "desktop   250       2007      imac 7,1 “core 2 duo” 2.0 20-inch\n",
      "laptop    125       NA        macbook white 13\" intel core 2 duo 2.4 ghz 250 gb \n",
      "laptop    1450      NA        macbook pro 15 inch intel core i7 2.5ghz 512gb ssd\n",
      "laptop    1350      NA        new macbook pro 15 inch intel core i7 2.6ghz 256gb\n",
      "laptop    1750      NA        new macbook pro 15 inch intel core i7 2.6ghz 512gb\n",
      "laptop    1250      2013      2013 macbook pro 15 inch intel core i7 2.6ghz 512g\n",
      "laptop    1350      2014      2014 macbook pro 15 inch intel core i7 2.6ghz 512g\n",
      "laptop    500       2019      {201||9 macbook ((15.1) inch! retina} -\n",
      "desktop   295       2010      imac 21.5\" 2010\n",
      "laptop    800       2014      macbook pro 15, 16gb ram, 500gb ssd, cs6, logic pr\n",
      "laptop    285       2010      apple macbook a1342 mid 2010 white laptop core 2 d\n",
      "laptop    500       2013      macbook pro 2013 late retina\n",
      "laptop    300       NA        apple macbook 13 white, 256gb ssd, 8gb ram, adobe \n",
      "laptop    100       2011      apple macbook laptop with microsoft office 2011 in\n",
      "desktop   800       2015      apple imac (retina 5k 27-inch, late 2015)\n",
      "desktop   300       NA        vintage 3 pc imac lot; imac g3 + imac g4/800 + ima\n",
      "laptop    950       2000      touch bar macbook pro 13\", 3.1 ghz i5/16gb/256/52 \n",
      "laptop    650       2015      2015 13\" retina macbook pro, 256gb ($1600 retail)\n",
      "laptop    750       2016      unused 12\" macbook (2016, 1.2 m5/8gb/500gb/1 batte\n",
      "laptop    550       2013      15\" retina macbook pro (2.6 quad core i7/8gb/500gb\n",
      "laptop    750       2016      unused 12\" macbook (2016, 1.2 m5/8gb/500gb/1 batte\n",
      "desktop   250       2011      apple imac 21.5in mid-2011 - 2.5ghz intel i5, 8gb \n",
      "laptop    360       2014      early 2014 13 in macbook air new battery\n",
      "laptop    125       NA        macbook white 13\" intel core 2 duo 2.4 ghz 250 gb \n",
      "laptop    350       NA        dell vostro 3470 & inspiron 620 & macbook air\n",
      "laptop    650       2017      macbook air 2017 model\n",
      "laptop    650       2017      macbook air 2017 model laptop\n",
      "laptop    100       2010      reset 2010-2017 macbook pro/ air efi bios icloud s\n",
      "laptop    890       2013      apple macbook pro retna 15\" 1tb ssd 16gb bootcamp \n",
      "laptop    100       2011      apple macbook laptop with microsoft office 2011 in\n",
      "laptop    950       2015      15\" retina macbook pro, perfect with 2.2ghz i7 cpu\n",
      "desktop   150       2009      apple 2009 imac 24\" core 2 duo 3.06ghz- 4gb 1tb . \n",
      "desktop   299       2011      apple imac 27\" quad core i7 3.4ghz, 4gb ram, 1tb s\n"
     ]
    },
    {
     "name": "stdout",
     "output_type": "stream",
     "text": [
      "laptop    100       2010      apple macbook pro core 2 duo 2.4ghz 13.3\" white mc\n",
      "laptop    325       NA        macbook pro silver 13 i5 intel apple laptop batter\n",
      "laptop    200       2011      13inch macbook pro late 2011\n",
      "desktop   100       2010      #1apple macbook imac repair fix icloud/efi/passwor\n",
      "laptop    445       NA        macbook air 13.3” i7 processor+8gb ram+warrantied\n",
      "laptop    100       2011      apple macbook laptop with microsoft office 2011 in\n",
      "desktop   600       2013      apple late 2013 27\" imac 3.2ghz i5 32gb ram 1tb fu\n",
      "NA        100       2009      efi/ install catalina 10.15 on older macs and fix \n",
      "laptop    600       2016      like new!!! macbook air (39 battery cycles, 256gb,\n",
      "laptop    950       2017      2017 touchbar macbook pro(3.1ghz i5/16gb ram/256gb\n",
      "laptop    425       2013      13\" retina macbook pro, late 2013, 2.4ghz i5, 8gb,\n",
      "laptop    600       2013      macbook pro 15\" 2.8ghz 16gb\n",
      "laptop    100       2008      macbook pro/ air efi bios icloud system unlock ser\n",
      "laptop    550       2015      2015/2016 macbook air (powerful i5, 256gb, 13\"), m\n",
      "laptop    500       2015      ❤❤❤ 2015 macbook air(13\", powerful i5), catalina o\n",
      "laptop    550       2015      2015/2016 macbook air (powerful i5, 256gb, 13\"), m\n",
      "desktop   250       2009      apple imac 27-inch, 3.06 ghz processor, intel core\n",
      "desktop   200       2009      25\" imac - osx yosemite / 3.06 ghz / 4 gb -  full \n",
      "laptop    220       2011      refurbished 13inch macbook pro late 2011\n",
      "laptop    425       2013      retina macbook pro 13\", late 2013, 2.4ghz i5/8gb/2\n",
      "laptop    1050      2018      unused touchbar 2018 macbook pro, apple care (2 av\n",
      "laptop    550       2013      15\" retina macbook pro, 2.6ghz quad i7/8gb/500gb\n",
      "laptop    250       2011      macbook pro 13'' cs6, logic x, final cut pro, ms o\n",
      "desktop   250       2007      imac 7,1 “core 2 duo” 2.0 20-inch\n",
      "laptop    125       NA        macbook white 13\" intel core 2 duo 2.4 ghz 250 gb \n",
      "laptop    1450      NA        macbook pro 15 inch intel core i7 2.5ghz 512gb ssd\n",
      "laptop    1350      NA        new macbook pro 15 inch intel core i7 2.6ghz 256gb\n",
      "laptop    1750      NA        new macbook pro 15 inch intel core i7 2.6ghz 512gb\n",
      "laptop    1250      2013      2013 macbook pro 15 inch intel core i7 2.6ghz 512g\n",
      "laptop    1350      2014      2014 macbook pro 15 inch intel core i7 2.6ghz 512g\n",
      "laptop    500       2019      {201||9 macbook ((15.1) inch! retina} -\n",
      "desktop   295       2010      imac 21.5\" 2010\n",
      "laptop    800       2014      macbook pro 15, 16gb ram, 500gb ssd, cs6, logic pr\n",
      "laptop    285       2010      apple macbook a1342 mid 2010 white laptop core 2 d\n",
      "laptop    500       2013      macbook pro 2013 late retina\n",
      "laptop    300       NA        apple macbook 13 white, 256gb ssd, 8gb ram, adobe \n",
      "laptop    100       2011      apple macbook laptop with microsoft office 2011 in\n",
      "desktop   800       2015      apple imac (retina 5k 27-inch, late 2015)\n",
      "desktop   300       NA        vintage 3 pc imac lot; imac g3 + imac g4/800 + ima\n",
      "laptop    950       2000      touch bar macbook pro 13\", 3.1 ghz i5/16gb/256/52 \n",
      "laptop    650       2015      2015 13\" retina macbook pro, 256gb ($1600 retail)\n",
      "laptop    750       2016      unused 12\" macbook (2016, 1.2 m5/8gb/500gb/1 batte\n",
      "laptop    550       2013      15\" retina macbook pro (2.6 quad core i7/8gb/500gb\n",
      "laptop    750       2016      unused 12\" macbook (2016, 1.2 m5/8gb/500gb/1 batte\n",
      "desktop   250       2011      apple imac 21.5in mid-2011 - 2.5ghz intel i5, 8gb \n",
      "laptop    360       2014      early 2014 13 in macbook air new battery\n",
      "laptop    125       NA        macbook white 13\" intel core 2 duo 2.4 ghz 250 gb \n",
      "laptop    350       NA        dell vostro 3470 & inspiron 620 & macbook air\n",
      "laptop    650       2017      macbook air 2017 model\n",
      "laptop    650       2017      macbook air 2017 model laptop\n",
      "laptop    100       2010      reset 2010-2017 macbook pro/ air efi bios icloud s\n",
      "laptop    890       2013      apple macbook pro retna 15\" 1tb ssd 16gb bootcamp \n",
      "laptop    100       2011      apple macbook laptop with microsoft office 2011 in\n",
      "laptop    950       2015      15\" retina macbook pro, perfect with 2.2ghz i7 cpu\n",
      "desktop   150       2009      apple 2009 imac 24\" core 2 duo 3.06ghz- 4gb 1tb . \n",
      "desktop   299       2011      apple imac 27\" quad core i7 3.4ghz, 4gb ram, 1tb s\n",
      "laptop    100       2010      apple macbook pro core 2 duo 2.4ghz 13.3\" white mc\n",
      "laptop    325       NA        macbook pro silver 13 i5 intel apple laptop batter\n",
      "laptop    200       2011      13inch macbook pro late 2011\n",
      "desktop   100       2010      #1apple macbook imac repair fix icloud/efi/passwor\n",
      "laptop    445       NA        macbook air 13.3” i7 processor+8gb ram+warrantied\n",
      "laptop    100       2011      apple macbook laptop with microsoft office 2011 in\n",
      "desktop   600       2013      apple late 2013 27\" imac 3.2ghz i5 32gb ram 1tb fu\n",
      "NA        100       2009      efi/ install catalina 10.15 on older macs and fix \n",
      "laptop    600       2016      like new!!! macbook air (39 battery cycles, 256gb,\n",
      "laptop    950       2017      2017 touchbar macbook pro(3.1ghz i5/16gb ram/256gb\n",
      "laptop    425       2013      13\" retina macbook pro, late 2013, 2.4ghz i5, 8gb,\n",
      "laptop    600       2013      macbook pro 15\" 2.8ghz 16gb\n",
      "laptop    100       2008      macbook pro/ air efi bios icloud system unlock ser\n",
      "laptop    550       2015      2015/2016 macbook air (powerful i5, 256gb, 13\"), m\n",
      "laptop    500       2015      ❤❤❤ 2015 macbook air(13\", powerful i5), catalina o\n",
      "laptop    550       2015      2015/2016 macbook air (powerful i5, 256gb, 13\"), m\n",
      "desktop   250       2009      apple imac 27-inch, 3.06 ghz processor, intel core\n",
      "desktop   200       2009      25\" imac - osx yosemite / 3.06 ghz / 4 gb -  full \n",
      "laptop    220       2011      refurbished 13inch macbook pro late 2011\n",
      "laptop    600       2015      mid 2015 macbook pro 15.4\" i7 2.2 ghz 16gb\n",
      "laptop    650       2014      mid 2014 2.5ghz retina 15\" macbook pro\n",
      "desktop   600       2011      apple imac 27\" mid 2011 intel core i5 3.1ghz 24gb \n",
      "laptop    625       2016      apple macbook 12” 2016 excellent condition\n",
      "laptop    650       2015      macbook pro 13 inch 2015\n",
      "laptop    350       NA        13 in macbook 250 gb\n",
      "laptop    200       2012      [price reduced]13\" macbook pro, needs new battery\n",
      "laptop    120       NA        macbook   \n",
      "laptop    350       2013      (5) macbook ssd upgrades 1tb and 512gb\n",
      "laptop    550       2011      macbook pro 1tb/ i5 13in w/ logic /adobe /office /\n",
      "laptop    550       2011      macbook pro 1tb/ i5 13in w/ logic /adobe /office /\n",
      "laptop    700       2015      macbook pro early 2015. 16gb, i7 256gb 13\" ms offi\n",
      "laptop    500       2019      11\" macbook air (powerful i5, portable), ms office\n"
     ]
    }
   ],
   "source": [
    "# get the data\n",
    "Read_Craigslist(\"https://newyork.craigslist.org/search/sya?query=mac\", \"mac\")\n",
    "Read_Craigslist(\"https://newyork.craigslist.org/search/sya?query=mac&s=120\", \"mac\")\n",
    "Read_Craigslist(\"https://newyork.craigslist.org/search/sya?query=mac&s=120\", \"mac\")\n",
    "Read_Craigslist(\"https://newyork.craigslist.org/search/sya?query=mac&s=240\", \"mac\")\n",
    "Read_Craigslist(\"https://newyork.craigslist.org/search/sya?query=mac&s=360\", \"mac\")\n",
    "Read_Craigslist(\"https://newyork.craigslist.org/search/sya?query=mac&s=480\", \"mac\")"
   ]
  },
  {
   "cell_type": "code",
   "execution_count": 4,
   "metadata": {},
   "outputs": [
    {
     "data": {
      "text/html": [
       "<div>\n",
       "<style scoped>\n",
       "    .dataframe tbody tr th:only-of-type {\n",
       "        vertical-align: middle;\n",
       "    }\n",
       "\n",
       "    .dataframe tbody tr th {\n",
       "        vertical-align: top;\n",
       "    }\n",
       "\n",
       "    .dataframe thead th {\n",
       "        text-align: right;\n",
       "    }\n",
       "</style>\n",
       "<table border=\"1\" class=\"dataframe\">\n",
       "  <thead>\n",
       "    <tr style=\"text-align: right;\">\n",
       "      <th></th>\n",
       "      <th>cat</th>\n",
       "      <th>price</th>\n",
       "      <th>year</th>\n",
       "      <th>listing_title</th>\n",
       "      <th>link</th>\n",
       "    </tr>\n",
       "  </thead>\n",
       "  <tbody>\n",
       "    <tr>\n",
       "      <th>0</th>\n",
       "      <td>desktop</td>\n",
       "      <td>140</td>\n",
       "      <td>2006</td>\n",
       "      <td>mac pro with 1tb hard drive</td>\n",
       "      <td>https://newyork.craigslist.org/brk/sys/d/brook...</td>\n",
       "    </tr>\n",
       "    <tr>\n",
       "      <th>1</th>\n",
       "      <td>desktop</td>\n",
       "      <td>250</td>\n",
       "      <td>2012</td>\n",
       "      <td>✅ 16gb mac mini 2.5ghz i5 late 2012, 500gb hd ...</td>\n",
       "      <td>https://newyork.craigslist.org/mnh/sys/d/new-y...</td>\n",
       "    </tr>\n",
       "    <tr>\n",
       "      <th>2</th>\n",
       "      <td>desktop</td>\n",
       "      <td>600</td>\n",
       "      <td>2010</td>\n",
       "      <td>mac pro 2010 3.33 ghz 6-core 16gb ram + 2tb ha...</td>\n",
       "      <td>https://newyork.craigslist.org/mnh/sys/d/new-y...</td>\n",
       "    </tr>\n",
       "    <tr>\n",
       "      <th>3</th>\n",
       "      <td>desktop</td>\n",
       "      <td>425</td>\n",
       "      <td>2010</td>\n",
       "      <td>mac pro 2010 tower 16 gbs ram quad core fast 3...</td>\n",
       "      <td>https://newyork.craigslist.org/wch/sys/d/carme...</td>\n",
       "    </tr>\n",
       "    <tr>\n",
       "      <th>4</th>\n",
       "      <td>desktop</td>\n",
       "      <td>2300</td>\n",
       "      <td>2013</td>\n",
       "      <td>brand new mac pro 3.5ghz 6c 16gb ram 512gb dua...</td>\n",
       "      <td>https://newyork.craigslist.org/mnh/sys/d/new-y...</td>\n",
       "    </tr>\n",
       "    <tr>\n",
       "      <th>5</th>\n",
       "      <td>desktop</td>\n",
       "      <td>670</td>\n",
       "      <td>2018</td>\n",
       "      <td>2018 apple mac mini - 3.6ghz intel i3 - 128gb ...</td>\n",
       "      <td>https://newyork.craigslist.org/mnh/sys/d/new-y...</td>\n",
       "    </tr>\n",
       "    <tr>\n",
       "      <th>7</th>\n",
       "      <td>laptop</td>\n",
       "      <td>460</td>\n",
       "      <td>2013</td>\n",
       "      <td>macbook pro 15\"</td>\n",
       "      <td>https://newyork.craigslist.org/que/sys/d/baysi...</td>\n",
       "    </tr>\n",
       "    <tr>\n",
       "      <th>8</th>\n",
       "      <td>desktop</td>\n",
       "      <td>800</td>\n",
       "      <td>2014</td>\n",
       "      <td>apple mac mini 16 gb ram 1.12 tb &amp; display 27”</td>\n",
       "      <td>https://newyork.craigslist.org/mnh/sys/d/new-y...</td>\n",
       "    </tr>\n",
       "    <tr>\n",
       "      <th>9</th>\n",
       "      <td>laptop</td>\n",
       "      <td>600</td>\n",
       "      <td>2010</td>\n",
       "      <td>macbook pro 15.4 2010</td>\n",
       "      <td>https://newyork.craigslist.org/que/sys/d/jamai...</td>\n",
       "    </tr>\n",
       "    <tr>\n",
       "      <th>10</th>\n",
       "      <td>laptop</td>\n",
       "      <td>225</td>\n",
       "      <td>2011</td>\n",
       "      <td>apple mac macbook a1181 white laptop core 2 du...</td>\n",
       "      <td>https://newyork.craigslist.org/mnh/sys/d/apple...</td>\n",
       "    </tr>\n",
       "  </tbody>\n",
       "</table>\n",
       "</div>"
      ],
      "text/plain": [
       "        cat  price  year                                      listing_title  \\\n",
       "0   desktop    140  2006                        mac pro with 1tb hard drive   \n",
       "1   desktop    250  2012  ✅ 16gb mac mini 2.5ghz i5 late 2012, 500gb hd ...   \n",
       "2   desktop    600  2010  mac pro 2010 3.33 ghz 6-core 16gb ram + 2tb ha...   \n",
       "3   desktop    425  2010  mac pro 2010 tower 16 gbs ram quad core fast 3...   \n",
       "4   desktop   2300  2013  brand new mac pro 3.5ghz 6c 16gb ram 512gb dua...   \n",
       "5   desktop    670  2018  2018 apple mac mini - 3.6ghz intel i3 - 128gb ...   \n",
       "7    laptop    460  2013                                    macbook pro 15\"   \n",
       "8   desktop    800  2014     apple mac mini 16 gb ram 1.12 tb & display 27”   \n",
       "9    laptop    600  2010                              macbook pro 15.4 2010   \n",
       "10   laptop    225  2011  apple mac macbook a1181 white laptop core 2 du...   \n",
       "\n",
       "                                                 link  \n",
       "0   https://newyork.craigslist.org/brk/sys/d/brook...  \n",
       "1   https://newyork.craigslist.org/mnh/sys/d/new-y...  \n",
       "2   https://newyork.craigslist.org/mnh/sys/d/new-y...  \n",
       "3   https://newyork.craigslist.org/wch/sys/d/carme...  \n",
       "4   https://newyork.craigslist.org/mnh/sys/d/new-y...  \n",
       "5   https://newyork.craigslist.org/mnh/sys/d/new-y...  \n",
       "7   https://newyork.craigslist.org/que/sys/d/baysi...  \n",
       "8   https://newyork.craigslist.org/mnh/sys/d/new-y...  \n",
       "9   https://newyork.craigslist.org/que/sys/d/jamai...  \n",
       "10  https://newyork.craigslist.org/mnh/sys/d/apple...  "
      ]
     },
     "execution_count": 4,
     "metadata": {},
     "output_type": "execute_result"
    }
   ],
   "source": [
    "import pandas as pd\n",
    "\n",
    "header = ['cat', 'price', 'year', 'listing_title', 'link']\n",
    "apple_df = pd.DataFrame(search_result, columns=header)\n",
    "                        \n",
    "# remove duplicated listing and drop any NA classification\n",
    "apple_df.drop_duplicates(keep=False, inplace=True)\n",
    "apple_df = apple_df[apple_df.cat != \"NA\"]\n",
    "apple_df = apple_df[apple_df.year != \"NA\"]\n",
    "apple_df = apple_df[apple_df.year <= \"2020\"]\n",
    "\n",
    "apple_df.style.set_properties(**{'text-align': 'left'})\n",
    "\n",
    "# inspect\n",
    "apple_df.head(10)"
   ]
  },
  {
   "cell_type": "code",
   "execution_count": 5,
   "metadata": {},
   "outputs": [
    {
     "data": {
      "text/plain": [
       "array(['2006', '2012', '2010', '2013', '2018', '2014', '2011', '2008',\n",
       "       '2000', '2009', '2007', '2016', '2019', '2015'], dtype=object)"
      ]
     },
     "execution_count": 5,
     "metadata": {},
     "output_type": "execute_result"
    }
   ],
   "source": [
    "# how many laptop and desktop are there respectively?\n",
    "# please create a stacked bar graph with year and machine types\n",
    "\n",
    "# find out how many unique years are there\n",
    "# return an arrays\n",
    "years = apple_df.year.unique()\n",
    "years"
   ]
  },
  {
   "cell_type": "code",
   "execution_count": 6,
   "metadata": {},
   "outputs": [
    {
     "name": "stdout",
     "output_type": "stream",
     "text": [
      "year  cat    \n",
      "2000  desktop    1\n",
      "2006  desktop    1\n",
      "2007  desktop    1\n",
      "2008  desktop    3\n",
      "      laptop     1\n",
      "2009  desktop    1\n",
      "2010  desktop    9\n",
      "      laptop     3\n",
      "2011  desktop    3\n",
      "      laptop     6\n",
      "2012  desktop    6\n",
      "      laptop     2\n",
      "2013  desktop    9\n",
      "      laptop     3\n",
      "2014  desktop    4\n",
      "      laptop     3\n",
      "2015  laptop     4\n",
      "2016  laptop     4\n",
      "2018  desktop    1\n",
      "2019  laptop     2\n",
      "Name: listing_title, dtype: int64\n"
     ]
    }
   ],
   "source": [
    "# then generate a grouped dataframe with the counts of each \n",
    "# deskptop and laptop per year\n",
    "counts = apple_df.groupby(['year', 'cat']).count()['listing_title']\n",
    "print(counts)"
   ]
  },
  {
   "cell_type": "code",
   "execution_count": 7,
   "metadata": {},
   "outputs": [
    {
     "name": "stdout",
     "output_type": "stream",
     "text": [
      "year\n",
      "2000     1\n",
      "2006     1\n",
      "2007     1\n",
      "2008     4\n",
      "2009     1\n",
      "2010    12\n",
      "2011     9\n",
      "2012     8\n",
      "2013    12\n",
      "2014     7\n",
      "2015     4\n",
      "2016     4\n",
      "2018     1\n",
      "2019     2\n",
      "Name: listing_title, dtype: int64\n"
     ]
    }
   ],
   "source": [
    "# using that, I can easily calculate the total number of listing per year (group)\n",
    "totals = counts.sum(level=0)\n",
    "print(totals)"
   ]
  },
  {
   "cell_type": "code",
   "execution_count": 8,
   "metadata": {
    "scrolled": true
   },
   "outputs": [
    {
     "name": "stdout",
     "output_type": "stream",
     "text": [
      "cat   desktop  laptop\n",
      "year                 \n",
      "2000      1.0     NaN\n",
      "2006      1.0     NaN\n",
      "2007      1.0     NaN\n",
      "2008      3.0     1.0\n",
      "2009      1.0     NaN\n",
      "2010      9.0     3.0\n",
      "2011      3.0     6.0\n",
      "2012      6.0     2.0\n",
      "2013      9.0     3.0\n",
      "2014      4.0     3.0\n",
      "2015      NaN     4.0\n",
      "2016      NaN     4.0\n",
      "2018      1.0     NaN\n",
      "2019      NaN     2.0\n"
     ]
    }
   ],
   "source": [
    "# to prepare for plotting, transform counts dataframe to separate \n",
    "# each cat (laptop/desktop) instead of by index.\n",
    "# also dropping the \"listing_title\" because unstack() operation\n",
    "# creates a multindex and it's easier to work with df without \n",
    "# the multiindex.\n",
    "counts = counts.unstack(level=1)\n",
    "print(counts)"
   ]
  },
  {
   "cell_type": "code",
   "execution_count": 9,
   "metadata": {
    "scrolled": false
   },
   "outputs": [
    {
     "name": "stdout",
     "output_type": "stream",
     "text": [
      "<class 'pandas.core.frame.DataFrame'>\n",
      "cat   desktop  laptop\n",
      "year                 \n",
      "2000      1.0     0.0\n",
      "2006      1.0     0.0\n",
      "2007      1.0     0.0\n",
      "2008      3.0     1.0\n",
      "2009      1.0     0.0\n",
      "2010      9.0     3.0\n",
      "2011      3.0     6.0\n",
      "2012      6.0     2.0\n",
      "2013      9.0     3.0\n",
      "2014      4.0     3.0\n",
      "2015      0.0     4.0\n",
      "2016      0.0     4.0\n",
      "2018      1.0     0.0\n",
      "2019      0.0     2.0\n"
     ]
    }
   ],
   "source": [
    "# now just need to replace the NaN by 0\n",
    "counts = counts.fillna(0)\n",
    "\n",
    "print(type(counts))\n",
    "print(counts)"
   ]
  },
  {
   "cell_type": "markdown",
   "metadata": {},
   "source": [
    "# Apple Computers listing Craigslist (Draft)"
   ]
  },
  {
   "cell_type": "code",
   "execution_count": 10,
   "metadata": {
    "scrolled": false
   },
   "outputs": [
    {
     "data": {
      "text/plain": [
       "<matplotlib.axes._subplots.AxesSubplot at 0x11e9cbda0>"
      ]
     },
     "execution_count": 10,
     "metadata": {},
     "output_type": "execute_result"
    },
    {
     "data": {
      "image/png": "[encoded data removed]",
      "text/plain": [
       "<Figure size 720x288 with 1 Axes>"
      ]
     },
     "metadata": {
      "needs_background": "light"
     },
     "output_type": "display_data"
    }
   ],
   "source": [
    "counts.plot.bar(stacked=True, figsize=(10, 4))"
   ]
  },
  {
   "cell_type": "code",
   "execution_count": 11,
   "metadata": {},
   "outputs": [],
   "source": [
    "# Analysis: There are mostly 2010-2013 desktop,\n",
    "# with a lot of laptops from 2013-2019."
   ]
  },
  {
   "cell_type": "code",
   "execution_count": 12,
   "metadata": {
    "scrolled": false
   },
   "outputs": [
    {
     "data": {
      "text/html": [
       "<div>\n",
       "<style scoped>\n",
       "    .dataframe tbody tr th:only-of-type {\n",
       "        vertical-align: middle;\n",
       "    }\n",
       "\n",
       "    .dataframe tbody tr th {\n",
       "        vertical-align: top;\n",
       "    }\n",
       "\n",
       "    .dataframe thead th {\n",
       "        text-align: right;\n",
       "    }\n",
       "</style>\n",
       "<table border=\"1\" class=\"dataframe\">\n",
       "  <thead>\n",
       "    <tr style=\"text-align: right;\">\n",
       "      <th></th>\n",
       "      <th>cat</th>\n",
       "      <th>price</th>\n",
       "      <th>year</th>\n",
       "      <th>listing_title</th>\n",
       "      <th>link</th>\n",
       "    </tr>\n",
       "  </thead>\n",
       "  <tbody>\n",
       "    <tr>\n",
       "      <th>10</th>\n",
       "      <td>laptop</td>\n",
       "      <td>225</td>\n",
       "      <td>2011</td>\n",
       "      <td>apple mac macbook a1181 white laptop core 2 du...</td>\n",
       "      <td>https://newyork.craigslist.org/mnh/sys/d/apple...</td>\n",
       "    </tr>\n",
       "    <tr>\n",
       "      <th>15</th>\n",
       "      <td>laptop</td>\n",
       "      <td>200</td>\n",
       "      <td>2011</td>\n",
       "      <td>apple macbook unibody osx high sierra webcam m...</td>\n",
       "      <td>https://newyork.craigslist.org/wch/sys/d/apple...</td>\n",
       "    </tr>\n",
       "    <tr>\n",
       "      <th>33</th>\n",
       "      <td>laptop</td>\n",
       "      <td>200</td>\n",
       "      <td>2011</td>\n",
       "      <td>apple macbook unibody osx high sierra webcam m...</td>\n",
       "      <td>https://newyork.craigslist.org/wch/sys/d/yonke...</td>\n",
       "    </tr>\n",
       "    <tr>\n",
       "      <th>44</th>\n",
       "      <td>laptop</td>\n",
       "      <td>200</td>\n",
       "      <td>2011</td>\n",
       "      <td>apple macbook unibody osx high sierra webcam m...</td>\n",
       "      <td>https://newyork.craigslist.org/wch/sys/d/apple...</td>\n",
       "    </tr>\n",
       "    <tr>\n",
       "      <th>49</th>\n",
       "      <td>desktop</td>\n",
       "      <td>350</td>\n",
       "      <td>2011</td>\n",
       "      <td>mac mini late 2011 - 2.0ghz i7 16gb ram</td>\n",
       "      <td>https://newyork.craigslist.org/brk/sys/d/brook...</td>\n",
       "    </tr>\n",
       "    <tr>\n",
       "      <th>51</th>\n",
       "      <td>desktop</td>\n",
       "      <td>200</td>\n",
       "      <td>2011</td>\n",
       "      <td>apple mac mini   (mid 2011) core i7  2x 500gb hdd</td>\n",
       "      <td>https://newyork.craigslist.org/brx/sys/d/bronx...</td>\n",
       "    </tr>\n",
       "    <tr>\n",
       "      <th>193</th>\n",
       "      <td>desktop</td>\n",
       "      <td>600</td>\n",
       "      <td>2011</td>\n",
       "      <td>apple imac 27\" mid 2011 intel core i5 3.1ghz 2...</td>\n",
       "      <td>https://newyork.craigslist.org/brk/sys/d/brook...</td>\n",
       "    </tr>\n",
       "    <tr>\n",
       "      <th>200</th>\n",
       "      <td>laptop</td>\n",
       "      <td>550</td>\n",
       "      <td>2011</td>\n",
       "      <td>macbook pro 1tb/ i5 13in w/ logic /adobe /offi...</td>\n",
       "      <td>https://newyork.craigslist.org/mnh/syd/d/new-y...</td>\n",
       "    </tr>\n",
       "    <tr>\n",
       "      <th>201</th>\n",
       "      <td>laptop</td>\n",
       "      <td>550</td>\n",
       "      <td>2011</td>\n",
       "      <td>macbook pro 1tb/ i5 13in w/ logic /adobe /offi...</td>\n",
       "      <td>https://newyork.craigslist.org/mnh/syd/d/new-y...</td>\n",
       "    </tr>\n",
       "  </tbody>\n",
       "</table>\n",
       "</div>"
      ],
      "text/plain": [
       "         cat  price  year                                      listing_title  \\\n",
       "10    laptop    225  2011  apple mac macbook a1181 white laptop core 2 du...   \n",
       "15    laptop    200  2011  apple macbook unibody osx high sierra webcam m...   \n",
       "33    laptop    200  2011  apple macbook unibody osx high sierra webcam m...   \n",
       "44    laptop    200  2011  apple macbook unibody osx high sierra webcam m...   \n",
       "49   desktop    350  2011            mac mini late 2011 - 2.0ghz i7 16gb ram   \n",
       "51   desktop    200  2011  apple mac mini   (mid 2011) core i7  2x 500gb hdd   \n",
       "193  desktop    600  2011  apple imac 27\" mid 2011 intel core i5 3.1ghz 2...   \n",
       "200   laptop    550  2011  macbook pro 1tb/ i5 13in w/ logic /adobe /offi...   \n",
       "201   laptop    550  2011  macbook pro 1tb/ i5 13in w/ logic /adobe /offi...   \n",
       "\n",
       "                                                  link  \n",
       "10   https://newyork.craigslist.org/mnh/sys/d/apple...  \n",
       "15   https://newyork.craigslist.org/wch/sys/d/apple...  \n",
       "33   https://newyork.craigslist.org/wch/sys/d/yonke...  \n",
       "44   https://newyork.craigslist.org/wch/sys/d/apple...  \n",
       "49   https://newyork.craigslist.org/brk/sys/d/brook...  \n",
       "51   https://newyork.craigslist.org/brx/sys/d/bronx...  \n",
       "193  https://newyork.craigslist.org/brk/sys/d/brook...  \n",
       "200  https://newyork.craigslist.org/mnh/syd/d/new-y...  \n",
       "201  https://newyork.craigslist.org/mnh/syd/d/new-y...  "
      ]
     },
     "execution_count": 12,
     "metadata": {},
     "output_type": "execute_result"
    }
   ],
   "source": [
    "# Investiage what are the laptop models in this 2011 year?\n",
    "apple_df[apple_df.year == \"2011\"]"
   ]
  },
  {
   "cell_type": "code",
   "execution_count": 13,
   "metadata": {},
   "outputs": [],
   "source": [
    "# But by looking carefully, there are multiple listing of the same item!\n",
    "# Upon closer review, I learned that deduplicate is using all columns.\n",
    "# Since the seller have multiple listing (distinct link)\n",
    "# They were not removed.\n",
    "\n",
    "# Removing by only consider using columns\n",
    "dedup = apple_df.drop_duplicates(subset=\"listing_title\", \n",
    "                                 keep=False)\n",
    "\n",
    "# Create a pivot: group by year, distinct cat and listing_title\n",
    "pivot_df = dedup[['year', 'cat']].pivot_table(\n",
    "    index=\"year\",\n",
    "    columns=\"cat\",\n",
    "    aggfunc=len, \n",
    "    fill_value=0\n",
    ")"
   ]
  },
  {
   "cell_type": "markdown",
   "metadata": {},
   "source": [
    "# Before Deduplicate:"
   ]
  },
  {
   "cell_type": "code",
   "execution_count": 14,
   "metadata": {},
   "outputs": [
    {
     "data": {
      "text/plain": [
       "<matplotlib.axes._subplots.AxesSubplot at 0x11ed85860>"
      ]
     },
     "execution_count": 14,
     "metadata": {},
     "output_type": "execute_result"
    },
    {
     "data": {
      "image/png": "[encoded data removed]",
      "text/plain": [
       "<Figure size 720x288 with 1 Axes>"
      ]
     },
     "metadata": {
      "needs_background": "light"
     },
     "output_type": "display_data"
    }
   ],
   "source": [
    "# https://www.colorhexa.com/74c476\n",
    "colors = [\"#46a549\", \"#aadbab\"]\n",
    "\n",
    "counts.plot.bar(stacked=True, \n",
    "                color=colors,\n",
    "                figsize=(10, 4))"
   ]
  },
  {
   "cell_type": "markdown",
   "metadata": {},
   "source": [
    "# After Deduplicate:"
   ]
  },
  {
   "cell_type": "code",
   "execution_count": 15,
   "metadata": {
    "scrolled": true
   },
   "outputs": [
    {
     "data": {
      "text/plain": [
       "<matplotlib.axes._subplots.AxesSubplot at 0x11ef1f7f0>"
      ]
     },
     "execution_count": 15,
     "metadata": {},
     "output_type": "execute_result"
    },
    {
     "data": {
      "image/png": "[encoded data removed]",
      "text/plain": [
       "<Figure size 720x288 with 1 Axes>"
      ]
     },
     "metadata": {
      "needs_background": "light"
     },
     "output_type": "display_data"
    }
   ],
   "source": [
    "pivot_df.plot.bar(stacked=True, \n",
    "                  color=colors,\n",
    "                  figsize=(10,4))"
   ]
  },
  {
   "cell_type": "markdown",
   "metadata": {},
   "source": [
    "There are actually very few 2011 laptops, these were same items."
   ]
  },
  {
   "cell_type": "markdown",
   "metadata": {},
   "source": [
    "# Show duplicates only:"
   ]
  },
  {
   "cell_type": "code",
   "execution_count": 16,
   "metadata": {},
   "outputs": [
    {
     "data": {
      "text/plain": [
       "<matplotlib.axes._subplots.AxesSubplot at 0x11f0c0b00>"
      ]
     },
     "execution_count": 16,
     "metadata": {},
     "output_type": "execute_result"
    },
    {
     "data": {
      "image/png": "[encoded data removed]",
      "text/plain": [
       "<Figure size 720x288 with 1 Axes>"
      ]
     },
     "metadata": {
      "needs_background": "light"
     },
     "output_type": "display_data"
    }
   ],
   "source": [
    "dup_count_df = counts - pivot_df\n",
    "dup_count_df.plot.bar(stacked=True, \n",
    "                  color=[\"#c474c2\", \"#ebe0f2\"],\n",
    "                  figsize=(10,4))"
   ]
  },
  {
   "cell_type": "code",
   "execution_count": 17,
   "metadata": {},
   "outputs": [],
   "source": [
    "# tip: what are the different markup \n",
    "#   - Title\n",
    "##  - Major Title\n",
    "### - Subtitle\n",
    "#   Reference: https://medium.com/ibm-data-science-experience/markdown-for-jupyter-notebooks-cheatsheet-386c05aeebed\n",
    "\n",
    "# Press esc and then press m to \"markup!\""
   ]
  }
 ],
 "metadata": {
  "kernelspec": {
   "display_name": "Python 3",
   "language": "python",
   "name": "python3"
  },
  "language_info": {
   "codemirror_mode": {
    "name": "ipython",
    "version": 3
   },
   "file_extension": ".py",
   "mimetype": "text/x-python",
   "name": "python",
   "nbconvert_exporter": "python",
   "pygments_lexer": "ipython3",
   "version": "3.7.3"
  }
 },
 "nbformat": 4,
 "nbformat_minor": 2
}
