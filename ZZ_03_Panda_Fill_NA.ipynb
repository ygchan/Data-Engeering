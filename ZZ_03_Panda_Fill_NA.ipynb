{
 "cells": [
  {
   "cell_type": "code",
   "execution_count": 3,
   "metadata": {},
   "outputs": [],
   "source": [
    "# Filling missing values with group-specific values\n",
    "import pandas as pd\n",
    "import numpy as np"
   ]
  },
  {
   "cell_type": "code",
   "execution_count": 4,
   "metadata": {},
   "outputs": [],
   "source": [
    "s = pd.Series(np.random.randn(6))"
   ]
  },
  {
   "cell_type": "code",
   "execution_count": 5,
   "metadata": {},
   "outputs": [
    {
     "data": {
      "text/plain": [
       "0         NaN\n",
       "1    0.617156\n",
       "2         NaN\n",
       "3    1.254529\n",
       "4         NaN\n",
       "5   -1.583634\n",
       "dtype: float64"
      ]
     },
     "execution_count": 5,
     "metadata": {},
     "output_type": "execute_result"
    }
   ],
   "source": [
    "s[::2] = np.nan\n",
    "s"
   ]
  },
  {
   "cell_type": "code",
   "execution_count": 6,
   "metadata": {},
   "outputs": [
    {
     "data": {
      "text/plain": [
       "0    0.096017\n",
       "1    0.617156\n",
       "2    0.096017\n",
       "3    1.254529\n",
       "4    0.096017\n",
       "5   -1.583634\n",
       "dtype: float64"
      ]
     },
     "execution_count": 6,
     "metadata": {},
     "output_type": "execute_result"
    }
   ],
   "source": [
    "# fill in the missing value with mean.\n",
    "s.fillna(s.mean())"
   ]
  },
  {
   "cell_type": "code",
   "execution_count": 74,
   "metadata": {},
   "outputs": [
    {
     "name": "stdout",
     "output_type": "stream",
     "text": [
      "Original Pandas DataFrame:\n",
      "   claim_number claim_status\n",
      "0          1142         PAID\n",
      "1          3313         PAID\n",
      "2          2898         PAID\n",
      "3          1409         PAID\n",
      "4          3582         PAID \n",
      "\n",
      "After make modification:\n",
      "   claim_number claim_status\n",
      "0          1142          NaN\n",
      "1          3313         PAID\n",
      "2          2898          NaN\n",
      "3          1409         PAID\n",
      "4          3582          NaN \n",
      "\n",
      "Finally used fillna():\n",
      "   claim_number claim_status\n",
      "0          1142      PENDING\n",
      "1          3313         PAID\n",
      "2          2898      PENDING\n",
      "3          1409         PAID\n",
      "4          3582      PENDING \n",
      "\n"
     ]
    }
   ],
   "source": [
    "# Healthcare Examples\n",
    "# Imagine you have claims status column with missing data\n",
    "\n",
    "s = pd.DataFrame(np.random.randint(1000, 4000, size=(10, 1)),\n",
    "                 columns = [\"claim_number\"])\n",
    "\n",
    "# add the status\n",
    "s[\"claim_status\"] = \"PAID\"\n",
    "\n",
    "# sample our dummy claim dataframe\n",
    "print('Original Pandas DataFrame:')\n",
    "print(s.head(), '\\n')\n",
    "\n",
    "# create blanks every 2 row\n",
    "# this is how you assign a dummy value to column \"claim_status\"\n",
    "# every 2 rows from 0 to end of the rows\n",
    "# reference: https://stackoverflow.com/a/53371671\n",
    "s.loc[::2, \"claim_status\"] = np.nan\n",
    "\n",
    "# re-sample\n",
    "print('After make modification:')\n",
    "print(s.head(), '\\n')\n",
    "\n",
    "# Let's fill the empty claim_status with \"Pending\"\n",
    "s[\"claim_status\"] = s[\"claim_status\"].fillna(\"PENDING\")\n",
    "print('Finally used fillna():')\n",
    "print(s.head(), '\\n')"
   ]
  },
  {
   "cell_type": "code",
   "execution_count": 79,
   "metadata": {
    "scrolled": true
   },
   "outputs": [
    {
     "name": "stdout",
     "output_type": "stream",
     "text": [
      "   member_number coverage\n",
      "0           4833   ACTIVE\n",
      "1           8779   ACTIVE\n",
      "2           3206   ACTIVE\n",
      "3           8302      NaN\n",
      "4           5392      NaN \n",
      "\n",
      "   member_number coverage\n",
      "0           4833   ACTIVE\n",
      "1           8779   ACTIVE\n",
      "2           3206   ACTIVE\n",
      "3           8302  PENDING\n",
      "4           5392  PENDING \n",
      "\n"
     ]
    }
   ],
   "source": [
    "# Healthcare Examples #2\n",
    "# Imagine you have eligiblity coloumn with missing data\n",
    "\n",
    "# note this is the same as \n",
    "#   pd.DataFrame(np.random.randint(0, 9000, size=(10, 1))...) !\n",
    "e = pd.DataFrame(np.random.randint(9000, size=(10, 1)),\n",
    "                 columns = [\"member_number\"])\n",
    "\n",
    "# add the member status\n",
    "e[\"coverage\"] = \"ACTIVE\"\n",
    "# print(e.head(), '\\n')\n",
    "\n",
    "# make some changes\n",
    "e.loc[3::, \"coverage\"] = np.nan\n",
    "print(e.head(), '\\n')\n",
    "\n",
    "e[\"coverage\"] = e[\"coverage\"].fillna(\"PENDING\")\n",
    "print(e.head(), '\\n')"
   ]
  },
  {
   "cell_type": "code",
   "execution_count": 91,
   "metadata": {},
   "outputs": [
    {
     "name": "stdout",
     "output_type": "stream",
     "text": [
      "Original DataFrame:\n",
      "   member_number effective_date\n",
      "0           7292     1928-09-17\n",
      "1           6594     1952-06-14\n",
      "2           5585     1943-06-23\n",
      "3           6316     1921-01-08\n",
      "4           6426     1932-03-25\n",
      "5           7781     1954-07-05\n",
      "6           6884     1961-09-03\n",
      "7           2798     1982-04-24\n",
      "8           6157     1934-07-22\n",
      "9           7611     1934-08-04 \n",
      "\n",
      "Converted to First of Month:\n",
      "   member_number effective_date first_of_month last_of_month\n",
      "0           7292     1928-09-17     1928-09-01    1928-09-30\n",
      "1           6594     1952-06-14     1952-06-01    1952-06-30\n",
      "2           5585     1943-06-23     1943-06-01    1943-06-30\n",
      "3           6316     1921-01-08     1921-01-01    1921-01-31\n",
      "4           6426     1932-03-25     1932-03-01    1932-03-31\n",
      "5           7781     1954-07-05     1954-07-01    1954-07-31\n",
      "6           6884     1961-09-03     1961-09-01    1961-09-30\n",
      "7           2798     1982-04-24     1982-04-01    1982-04-30\n",
      "8           6157     1934-07-22     1934-07-01    1934-07-31\n",
      "9           7611     1934-08-04     1934-08-01    1934-08-31\n"
     ]
    }
   ],
   "source": [
    "# Healthcare Example #3\n",
    "# Imagine you have effective date with missing data\n",
    "\n",
    "m = pd.DataFrame(np.random.randint(1000, 9000, size=(10, 1)),\n",
    "                 columns=[\"member_number\"])\n",
    "\n",
    "# add a random date\n",
    "# https://stackoverflow.com/a/53054918\n",
    "min_date = pd.to_datetime('1920-01-01')\n",
    "max_date = pd.to_datetime('1990-12-31')\n",
    "\n",
    "# find out the max number of dates you allow\n",
    "d = (max_date - min_date).days + 1\n",
    "\n",
    "# generate a random date for this column\n",
    "m['effective_date'] = min_date + pd.to_timedelta(pd.np.random.randint(d, size=10), unit='d')\n",
    "print('Original DataFrame:')\n",
    "print(m, '\\n')\n",
    "\n",
    "# %timeit df['month3'] = (df['purchase_date'] - pd.offsets.MonthBegin(1)).dt.floor('d')\n",
    "# 100 loops, best of 3: 12.8 ms per loop\n",
    "\n",
    "# convert the effective_date to first of the month\n",
    "# convert the effective_date to end of the month\n",
    "print('Converted to First of Month:')\n",
    "m['first_of_month'] = (m['effective_date'] - pd.offsets.MonthBegin(1)).dt.floor('d')\n",
    "m['last_of_month'] = (m['effective_date'] + pd.offsets.MonthEnd(1)).dt.floor('d')\n",
    "print(m)"
   ]
  },
  {
   "cell_type": "code",
   "execution_count": 92,
   "metadata": {},
   "outputs": [
    {
     "name": "stdout",
     "output_type": "stream",
     "text": [
      "[7274, 3604, 6509, 1664, 6681, 3926, 8622, 8254, 2866, 1282]\n"
     ]
    }
   ],
   "source": [
    "# from p.313\n",
    "# there is a different way to create this dataframe!\n",
    "import random\n",
    "\n",
    "# https://www.geeksforgeeks.org/generating-random-number-list-in-python/\n",
    "member_numbers = random.sample(range(1000, 9000), 10)\n",
    "print(member_numbers)"
   ]
  },
  {
   "cell_type": "code",
   "execution_count": 96,
   "metadata": {},
   "outputs": [],
   "source": [
    "# use the member_numbers as index!!\n",
    "min_date = pd.to_datetime('1920-01-01')\n",
    "max_date = pd.to_datetime('1990-12-31')\n",
    "d = (max_date - min_date).days + 1\n",
    "\n",
    "# learned: you can create a list of index to assign to the dataframe\n",
    "# rather than using numbers. this will be handly soon.\n",
    "y = pd.DataFrame(min_date + pd.to_timedelta(pd.np.random.randint(d, size=10), unit='d'),\n",
    "                 index=member_numbers, columns=['effective_date'])"
   ]
  },
  {
   "cell_type": "code",
   "execution_count": 104,
   "metadata": {},
   "outputs": [
    {
     "data": {
      "text/html": [
       "<div>\n",
       "<style scoped>\n",
       "    .dataframe tbody tr th:only-of-type {\n",
       "        vertical-align: middle;\n",
       "    }\n",
       "\n",
       "    .dataframe tbody tr th {\n",
       "        vertical-align: top;\n",
       "    }\n",
       "\n",
       "    .dataframe thead th {\n",
       "        text-align: right;\n",
       "    }\n",
       "</style>\n",
       "<table border=\"1\" class=\"dataframe\">\n",
       "  <thead>\n",
       "    <tr style=\"text-align: right;\">\n",
       "      <th></th>\n",
       "      <th>effective_date</th>\n",
       "      <th>first_of_month</th>\n",
       "    </tr>\n",
       "  </thead>\n",
       "  <tbody>\n",
       "    <tr>\n",
       "      <td>7274</td>\n",
       "      <td>1948-09-27</td>\n",
       "      <td>1948-10-01</td>\n",
       "    </tr>\n",
       "    <tr>\n",
       "      <td>3604</td>\n",
       "      <td>1927-05-31</td>\n",
       "      <td>1927-06-01</td>\n",
       "    </tr>\n",
       "    <tr>\n",
       "      <td>6509</td>\n",
       "      <td>1934-04-06</td>\n",
       "      <td>1934-05-01</td>\n",
       "    </tr>\n",
       "    <tr>\n",
       "      <td>1664</td>\n",
       "      <td>1937-06-27</td>\n",
       "      <td>1937-07-01</td>\n",
       "    </tr>\n",
       "    <tr>\n",
       "      <td>6681</td>\n",
       "      <td>1976-01-01</td>\n",
       "      <td>1976-02-01</td>\n",
       "    </tr>\n",
       "    <tr>\n",
       "      <td>3926</td>\n",
       "      <td>1984-11-01</td>\n",
       "      <td>1984-12-01</td>\n",
       "    </tr>\n",
       "    <tr>\n",
       "      <td>8622</td>\n",
       "      <td>1949-01-13</td>\n",
       "      <td>1949-02-01</td>\n",
       "    </tr>\n",
       "    <tr>\n",
       "      <td>8254</td>\n",
       "      <td>1981-12-02</td>\n",
       "      <td>1982-01-01</td>\n",
       "    </tr>\n",
       "    <tr>\n",
       "      <td>2866</td>\n",
       "      <td>1946-02-04</td>\n",
       "      <td>1946-03-01</td>\n",
       "    </tr>\n",
       "    <tr>\n",
       "      <td>1282</td>\n",
       "      <td>1952-11-25</td>\n",
       "      <td>1952-12-01</td>\n",
       "    </tr>\n",
       "  </tbody>\n",
       "</table>\n",
       "</div>"
      ],
      "text/plain": [
       "     effective_date first_of_month\n",
       "7274     1948-09-27     1948-10-01\n",
       "3604     1927-05-31     1927-06-01\n",
       "6509     1934-04-06     1934-05-01\n",
       "1664     1937-06-27     1937-07-01\n",
       "6681     1976-01-01     1976-02-01\n",
       "3926     1984-11-01     1984-12-01\n",
       "8622     1949-01-13     1949-02-01\n",
       "8254     1981-12-02     1982-01-01\n",
       "2866     1946-02-04     1946-03-01\n",
       "1282     1952-11-25     1952-12-01"
      ]
     },
     "execution_count": 104,
     "metadata": {},
     "output_type": "execute_result"
    }
   ],
   "source": [
    "# this is so cool!\n",
    "y"
   ]
  },
  {
   "cell_type": "code",
   "execution_count": 106,
   "metadata": {},
   "outputs": [
    {
     "name": "stdout",
     "output_type": "stream",
     "text": [
      "     effective_date first_of_month end_of_month\n",
      "7274     1948-09-27     1948-10-01   1948-09-30\n",
      "3604     1927-05-31     1927-06-01   1927-06-30\n",
      "6509     1934-04-06     1934-05-01   1934-04-30\n",
      "1664     1937-06-27     1937-07-01   1937-06-30\n",
      "6681     1976-01-01     1976-02-01   1976-01-31\n",
      "3926     1984-11-01     1984-12-01   1984-11-30\n",
      "8622     1949-01-13     1949-02-01   1949-01-31\n",
      "8254     1981-12-02     1982-01-01   1981-12-31\n",
      "2866     1946-02-04     1946-03-01   1946-02-28\n",
      "1282     1952-11-25     1952-12-01   1952-11-30\n"
     ]
    }
   ],
   "source": [
    "# add first of month\n",
    "y['first_of_month'] = (y['effective_date'] + pd.offsets.MonthBegin(1)).dt.floor('d')\n",
    "\n",
    "# add last of month\n",
    "y['end_of_month']  = (y['effective_date'] + pd.offsets.MonthEnd(1)).dt.floor('d')\n",
    "\n",
    "print(y)"
   ]
  },
  {
   "cell_type": "code",
   "execution_count": null,
   "metadata": {},
   "outputs": [],
   "source": []
  }
 ],
 "metadata": {
  "kernelspec": {
   "display_name": "Python 3",
   "language": "python",
   "name": "python3"
  },
  "language_info": {
   "codemirror_mode": {
    "name": "ipython",
    "version": 3
   },
   "file_extension": ".py",
   "mimetype": "text/x-python",
   "name": "python",
   "nbconvert_exporter": "python",
   "pygments_lexer": "ipython3",
   "version": "3.7.4"
  }
 },
 "nbformat": 4,
 "nbformat_minor": 2
}
