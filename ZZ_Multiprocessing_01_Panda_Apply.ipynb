{
 "cells": [
  {
   "cell_type": "code",
   "execution_count": 1,
   "metadata": {},
   "outputs": [],
   "source": [
    "# Python Data ETL with Pandas libraires\n",
    "# Learning about the performance difference between\n",
    "# 1 - For Loop (Slowest)\n",
    "# 2 - Apply Function (Standard)\n",
    "# 3 - Multiprocessing Apply Function (Really Easy to do!)"
   ]
  },
  {
   "cell_type": "code",
   "execution_count": 2,
   "metadata": {},
   "outputs": [
    {
     "data": {
      "application/vnd.jupyter.widget-view+json": {
       "model_id": "d68bcc37c47d498a8c8b2c44978a3f56",
       "version_major": 2,
       "version_minor": 0
      },
      "text/plain": [
       "HBox(children=(IntProgress(value=1, bar_style='info', max=1), HTML(value='')))"
      ]
     },
     "metadata": {},
     "output_type": "display_data"
    },
    {
     "name": "stdout",
     "output_type": "stream",
     "text": [
      "\n"
     ]
    }
   ],
   "source": [
    "%load_ext autoreload\n",
    "%autoreload 2\n",
    "\n",
    "import pandas as pd\n",
    "import time\n",
    "\n",
    "from pandarallel import pandarallel\n",
    "\n",
    "import math\n",
    "import numpy as np\n",
    "\n",
    "from tqdm import tqdm, tqdm_notebook\n",
    "tqdm_notebook().pandas()\n",
    "\n",
    "# How to turn on the progress bar\n",
    "# https://stackoverflow.com/questions/45595689/how-to-fix-tqdm-progress-apply-for-pandas-in-jupyter/51085407\n",
    "\n",
    "# How to configurate %%timeit -n(number)\n",
    "# https://ipython.readthedocs.io/en/stable/interactive/magics.html"
   ]
  },
  {
   "cell_type": "code",
   "execution_count": 3,
   "metadata": {
    "scrolled": true
   },
   "outputs": [
    {
     "name": "stdout",
     "output_type": "stream",
     "text": [
      "(1000000, 2)\n"
     ]
    },
    {
     "data": {
      "text/html": [
       "<div>\n",
       "<style scoped>\n",
       "    .dataframe tbody tr th:only-of-type {\n",
       "        vertical-align: middle;\n",
       "    }\n",
       "\n",
       "    .dataframe tbody tr th {\n",
       "        vertical-align: top;\n",
       "    }\n",
       "\n",
       "    .dataframe thead th {\n",
       "        text-align: right;\n",
       "    }\n",
       "</style>\n",
       "<table border=\"1\" class=\"dataframe\">\n",
       "  <thead>\n",
       "    <tr style=\"text-align: right;\">\n",
       "      <th></th>\n",
       "      <th>form_code</th>\n",
       "      <th>ipop_ind</th>\n",
       "    </tr>\n",
       "  </thead>\n",
       "  <tbody>\n",
       "    <tr>\n",
       "      <th>0</th>\n",
       "      <td>0</td>\n",
       "      <td>0</td>\n",
       "    </tr>\n",
       "    <tr>\n",
       "      <th>1</th>\n",
       "      <td>0</td>\n",
       "      <td>0</td>\n",
       "    </tr>\n",
       "    <tr>\n",
       "      <th>2</th>\n",
       "      <td>0</td>\n",
       "      <td>1</td>\n",
       "    </tr>\n",
       "    <tr>\n",
       "      <th>3</th>\n",
       "      <td>1</td>\n",
       "      <td>0</td>\n",
       "    </tr>\n",
       "    <tr>\n",
       "      <th>4</th>\n",
       "      <td>0</td>\n",
       "      <td>1</td>\n",
       "    </tr>\n",
       "  </tbody>\n",
       "</table>\n",
       "</div>"
      ],
      "text/plain": [
       "   form_code  ipop_ind\n",
       "0          0         0\n",
       "1          0         0\n",
       "2          0         1\n",
       "3          1         0\n",
       "4          0         1"
      ]
     },
     "execution_count": 3,
     "metadata": {},
     "output_type": "execute_result"
    }
   ],
   "source": [
    "# Generate random input\n",
    "\n",
    "def reset_df():\n",
    "    global df\n",
    "    # randint -- [lowbound, upbound)\n",
    "    # randint(1, 2) -- [0, 2) \n",
    "    # this will generate 0 or 1, because 2 is not included\n",
    "\n",
    "    # 100K rows\n",
    "    df = pd.DataFrame(np.random.randint(0, 2, size=(1000000, 2)),\n",
    "                      columns=[\"form_code\", \"ipop_ind\"])\n",
    "\n",
    "    # form_code: type of Medicaid Form\n",
    "    # 0 = U (Institutional), 1 = H (Professional)\n",
    "\n",
    "    # ipop_ind : inpatient or outpatient indicator\n",
    "    # 0 = inpatient, 1 = outpatient\n",
    "\n",
    "reset_df()\n",
    "print(df.shape)\n",
    "df.head()"
   ]
  },
  {
   "cell_type": "code",
   "execution_count": 4,
   "metadata": {},
   "outputs": [],
   "source": [
    "# method 1: simple\n",
    "def update_simple(df):\n",
    "    claim_type_list = []\n",
    "    for index, row in df.iterrows():\n",
    "        if row['form_code'] == 1:\n",
    "            # Professional\n",
    "            claim_type = 'P'\n",
    "        elif row['ipop_ind'] == 0:\n",
    "            # Institutional Inpatient\n",
    "            claim_type = 'I'\n",
    "        else:\n",
    "            # Institutional Outpatient\n",
    "            claim_type = 'O'\n",
    "        claim_type_list.append(claim_type)"
   ]
  },
  {
   "cell_type": "code",
   "execution_count": 5,
   "metadata": {
    "scrolled": true
   },
   "outputs": [
    {
     "name": "stdout",
     "output_type": "stream",
     "text": [
      "2min 35s ± 8.71 s per loop (mean ± std. dev. of 7 runs, 2 loops each)\n"
     ]
    }
   ],
   "source": [
    "%timeit -n2 df['claim_type'] = update_simple(df)\n",
    "\n",
    "df = None\n",
    "reset_df()"
   ]
  },
  {
   "cell_type": "code",
   "execution_count": 6,
   "metadata": {},
   "outputs": [],
   "source": [
    "# https://jakevdp.github.io/PythonDataScienceHandbook/01.07-timing-and-profiling.html"
   ]
  },
  {
   "cell_type": "code",
   "execution_count": 7,
   "metadata": {},
   "outputs": [
    {
     "data": {
      "application/vnd.jupyter.widget-view+json": {
       "model_id": "0fa0d02d447d4f719d890301cca5450c",
       "version_major": 2,
       "version_minor": 0
      },
      "text/plain": [
       "HBox(children=(IntProgress(value=0, max=1000000), HTML(value='')))"
      ]
     },
     "metadata": {},
     "output_type": "display_data"
    },
    {
     "name": "stdout",
     "output_type": "stream",
     "text": [
      "\n"
     ]
    },
    {
     "data": {
      "application/vnd.jupyter.widget-view+json": {
       "model_id": "8468ca79091a46b9a4f45767cec9dbd7",
       "version_major": 2,
       "version_minor": 0
      },
      "text/plain": [
       "HBox(children=(IntProgress(value=0, max=1000000), HTML(value='')))"
      ]
     },
     "metadata": {},
     "output_type": "display_data"
    },
    {
     "name": "stdout",
     "output_type": "stream",
     "text": [
      "\n"
     ]
    },
    {
     "data": {
      "application/vnd.jupyter.widget-view+json": {
       "model_id": "ab99c73580234773867f80b0be12f8cb",
       "version_major": 2,
       "version_minor": 0
      },
      "text/plain": [
       "HBox(children=(IntProgress(value=0, max=1000000), HTML(value='')))"
      ]
     },
     "metadata": {},
     "output_type": "display_data"
    },
    {
     "name": "stdout",
     "output_type": "stream",
     "text": [
      "\n"
     ]
    },
    {
     "data": {
      "application/vnd.jupyter.widget-view+json": {
       "model_id": "120178b390ae4922b652743fa4824a85",
       "version_major": 2,
       "version_minor": 0
      },
      "text/plain": [
       "HBox(children=(IntProgress(value=0, max=1000000), HTML(value='')))"
      ]
     },
     "metadata": {},
     "output_type": "display_data"
    },
    {
     "name": "stdout",
     "output_type": "stream",
     "text": [
      "\n"
     ]
    },
    {
     "data": {
      "application/vnd.jupyter.widget-view+json": {
       "model_id": "8b17b59e232a40f7bae742bfb4e1328d",
       "version_major": 2,
       "version_minor": 0
      },
      "text/plain": [
       "HBox(children=(IntProgress(value=0, max=1000000), HTML(value='')))"
      ]
     },
     "metadata": {},
     "output_type": "display_data"
    },
    {
     "name": "stdout",
     "output_type": "stream",
     "text": [
      "\n"
     ]
    },
    {
     "data": {
      "application/vnd.jupyter.widget-view+json": {
       "model_id": "c72cc137a56a4a00a840a5b723ac226c",
       "version_major": 2,
       "version_minor": 0
      },
      "text/plain": [
       "HBox(children=(IntProgress(value=0, max=1000000), HTML(value='')))"
      ]
     },
     "metadata": {},
     "output_type": "display_data"
    },
    {
     "name": "stdout",
     "output_type": "stream",
     "text": [
      "\n"
     ]
    },
    {
     "data": {
      "application/vnd.jupyter.widget-view+json": {
       "model_id": "768b4c55f29045db9f9fb2f03341e144",
       "version_major": 2,
       "version_minor": 0
      },
      "text/plain": [
       "HBox(children=(IntProgress(value=0, max=1000000), HTML(value='')))"
      ]
     },
     "metadata": {},
     "output_type": "display_data"
    },
    {
     "name": "stdout",
     "output_type": "stream",
     "text": [
      "\n",
      "45.3 s ± 1.4 s per loop (mean ± std. dev. of 7 runs, 1 loop each)\n"
     ]
    }
   ],
   "source": [
    "# method 2: apply\n",
    "def update_standard(x):\n",
    "    if x.form_code == 1:\n",
    "        # Professional\n",
    "        return 'P'\n",
    "    elif x.ipop_ind == 0:\n",
    "        # Institutional Inpatient\n",
    "        return 'I'\n",
    "    else:\n",
    "        # Institutional Outpatient\n",
    "        return 'O'\n",
    "        \n",
    "%timeit -n1 df['claim_type'] = df.progress_apply(update_standard, axis=1)\n",
    "\n",
    "df = None\n",
    "reset_df()"
   ]
  },
  {
   "cell_type": "code",
   "execution_count": 8,
   "metadata": {
    "scrolled": true
   },
   "outputs": [
    {
     "name": "stdout",
     "output_type": "stream",
     "text": [
      "INFO: Pandarallel will run on 4 workers.\n",
      "INFO: Pandarallel will use standard multiprocessing data transfer (pipe) to transfer data between the main process and workers.\n",
      "28.9 s ± 1.31 s per loop (mean ± std. dev. of 7 runs, 1 loop each)\n"
     ]
    }
   ],
   "source": [
    "# method 3: pandarallel\n",
    "# using simple library to runs apply function on multiple processor\n",
    "\n",
    "from pandarallel import pandarallel\n",
    "from math import sin\n",
    "\n",
    "\n",
    "\n",
    "pandarallel.initialize()\n",
    "%timeit -n1 df['claim_type'] = df.parallel_apply(update_standard, axis=1)\n",
    "\n",
    "df = None\n",
    "reset_df()"
   ]
  },
  {
   "cell_type": "code",
   "execution_count": null,
   "metadata": {},
   "outputs": [],
   "source": [
    "# method 4: "
   ]
  },
  {
   "cell_type": "code",
   "execution_count": 9,
   "metadata": {
    "scrolled": true
   },
   "outputs": [],
   "source": [
    "# https://github.com/nalepae/pandarallel\n",
    "# Multi processing for Pandas for morals"
   ]
  },
  {
   "cell_type": "markdown",
   "metadata": {},
   "source": [
    "# Sample Size of 100K Rows"
   ]
  },
  {
   "cell_type": "code",
   "execution_count": 12,
   "metadata": {},
   "outputs": [
    {
     "name": "stdout",
     "output_type": "stream",
     "text": [
      "                                method   time\n",
      "0                             For Loop  24.30\n",
      "1                         Pandas Apply   5.35\n",
      "2  Pandas Multi-Process Parallel Apply   2.44\n"
     ]
    },
    {
     "data": {
      "text/plain": [
       "<matplotlib.axes._subplots.AxesSubplot at 0x11d24f860>"
      ]
     },
     "execution_count": 12,
     "metadata": {},
     "output_type": "execute_result"
    },
    {
     "data": {
      "image/png": "[encoded data removed]",
      "text/plain": [
       "<Figure size 576x576 with 1 Axes>"
      ]
     },
     "metadata": {
      "needs_background": "light"
     },
     "output_type": "display_data"
    }
   ],
   "source": [
    "# 100K Sample\n",
    "result_100K_df = pd.DataFrame([[\"For Loop\", 24.3], \n",
    "                          [\"Pandas Apply\", 5.35],\n",
    "                          [\"Pandas Multi-Process Parallel Apply\", 2.44]],\n",
    "                         columns=[\"method\", \"time\"])\n",
    "result_100K_df.set_index(\"method\")\n",
    "print(result_100K_df)\n",
    "result_100K_df.plot.bar(x=\"method\", y=\"time\", figsize=(8, 8), rot=False)"
   ]
  },
  {
   "cell_type": "markdown",
   "metadata": {},
   "source": [
    "# Sample Size of 1M Rows"
   ]
  },
  {
   "cell_type": "code",
   "execution_count": 13,
   "metadata": {},
   "outputs": [
    {
     "name": "stdout",
     "output_type": "stream",
     "text": [
      "                                method   time\n",
      "0                             For Loop  155.0\n",
      "1                         Pandas Apply   45.3\n",
      "2  Pandas Multi-Process Parallel Apply   28.9\n"
     ]
    },
    {
     "data": {
      "text/plain": [
       "<matplotlib.axes._subplots.AxesSubplot at 0x11d2b7780>"
      ]
     },
     "execution_count": 13,
     "metadata": {},
     "output_type": "execute_result"
    },
    {
     "data": {
      "image/png": "[encoded data removed]",
      "text/plain": [
       "<Figure size 576x576 with 1 Axes>"
      ]
     },
     "metadata": {
      "needs_background": "light"
     },
     "output_type": "display_data"
    }
   ],
   "source": [
    "# 100K Sample\n",
    "result_1M_df = pd.DataFrame([[\"For Loop\", 155], \n",
    "                          [\"Pandas Apply\", 45.3],\n",
    "                          [\"Pandas Multi-Process Parallel Apply\", 28.9]],\n",
    "                         columns=[\"method\", \"time\"])\n",
    "result_1M_df.set_index(\"method\")\n",
    "print(result_1M_df)\n",
    "result_100K_df.plot.bar(x=\"method\", y=\"time\", figsize=(8, 8), rot=False)"
   ]
  },
  {
   "cell_type": "code",
   "execution_count": 14,
   "metadata": {},
   "outputs": [],
   "source": [
    "# Summary: The most basic for loop, looping row by row is really slow.\n",
    "# 2.5 Minutes for an operation of 1M rolls.\n",
    "# The Apply method when written properly, it is 4X faster.\n",
    "# The Apply (Multi-Process Parallel) method is additonal 2X faster.\n",
    "# My Macbook air only has 2s core running at 1.7Ghz.\n",
    "# I would be really interested to see what will a 4 cores computer do!\n",
    "\n",
    "# Conclusion: This is 4X faster, and which multiple by more many cores.\n",
    "# Notice this is multiprocessing... not multithreading."
   ]
  }
 ],
 "metadata": {
  "kernelspec": {
   "display_name": "Python 3",
   "language": "python",
   "name": "python3"
  },
  "language_info": {
   "codemirror_mode": {
    "name": "ipython",
    "version": 3
   },
   "file_extension": ".py",
   "mimetype": "text/x-python",
   "name": "python",
   "nbconvert_exporter": "python",
   "pygments_lexer": "ipython3",
   "version": "3.7.3"
  }
 },
 "nbformat": 4,
 "nbformat_minor": 2
}
