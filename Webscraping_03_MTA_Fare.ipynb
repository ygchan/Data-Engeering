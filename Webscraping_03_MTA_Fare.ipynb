{
 "cells": [
  {
   "cell_type": "code",
   "execution_count": 1,
   "metadata": {},
   "outputs": [],
   "source": [
    "# Write a python web scraping program to extract the data from MTA\n",
    "# We want to take a look at what is the difference betwen the price\n",
    "# of regular fare and reduced far\n",
    "\n",
    "import requests\n",
    "from bs4 import BeautifulSoup"
   ]
  },
  {
   "cell_type": "code",
   "execution_count": 2,
   "metadata": {},
   "outputs": [],
   "source": [
    "# get the data\n",
    "data = requests.get(\"https://new.mta.info/fares-and-tolls/subway-bus-and-staten-island-railway\")\n",
    "\n",
    "# load data into bs4\n",
    "soup = BeautifulSoup(data.text, \"html.parser\")"
   ]
  },
  {
   "cell_type": "code",
   "execution_count": 3,
   "metadata": {},
   "outputs": [
    {
     "name": "stdout",
     "output_type": "stream",
     "text": [
      "MetroCard Fares      | Base Pay-Per-Ride fare                   | $2.75\n",
      "MetroCard Fares      | Single ride fare                         | $3\n",
      "MetroCard Fares      | 30-Day Unlimited Ride                    | $127\n",
      "MetroCard Fares      | 7-Day Unlimited Ride                     | $33\n",
      "MetroCard Fares      | Express Bus                              | $6.75\n",
      "MetroCard Fares      | Express Bus Plus 7-Day                   | $62\n",
      "Reduced Fares        | Subway, Local Bus, Select Bus            | $1.35\n",
      "Reduced Fares        | 30-Day Unlimited Ride                    | $63.50\n",
      "Reduced Fares        | 7-Day Unlimited Ride                     | $16.50\n",
      "Reduced Fares        | Express Bus (off-peak only)              | $3.35\n"
     ]
    }
   ],
   "source": [
    "# look for the table with \n",
    "metro_card = \"mta-flex-grow\"\n",
    "normal_div = soup.find_all('div', {'class': metro_card})\n",
    "\n",
    "# Let's also make a simple regex\n",
    "# Base Pay-Per-Ride fare: $2.75\n",
    "# The line has a colon (:) and a dollar sign ($)\n",
    "\n",
    "import re\n",
    "\n",
    "mta_re = re.compile(r'(.*):(.*$.*)')\n",
    "metro_fare_list = []\n",
    "\n",
    "# Looping all the segment with \"mta-flex-grow\"\n",
    "for div in normal_div:\n",
    "    if (div.find('h3')):\n",
    "        fare_type = div.find('h3').text\n",
    "        \n",
    "        # Run into issue with spaces\n",
    "        fare_type = fare_type.replace(u'\\xa0', u' ')\n",
    "    \n",
    "    for li in div.find_all('li'):\n",
    "        # Maching with regular expression\n",
    "        match = mta_re.match(li.text)\n",
    "        if match:\n",
    "            ticket_name = match.group(1)\n",
    "            ticket_price = match.group(2).strip()\n",
    "            \n",
    "            print(fare_type.ljust(20), '|', \n",
    "                  ticket_name.ljust(40), '|', \n",
    "                  ticket_price)\n",
    "            \n",
    "            # Need to remove the dollar sign and convert to double\n",
    "            ticket_price = float(ticket_price.replace(\"$\", \"\"))\n",
    "            \n",
    "            # Putting everything into a list\n",
    "            metro_fare_list.append([fare_type, ticket_name, ticket_price])"
   ]
  },
  {
   "cell_type": "code",
   "execution_count": 4,
   "metadata": {
    "scrolled": false
   },
   "outputs": [
    {
     "name": "stdout",
     "output_type": "stream",
     "text": [
      "['MetroCard Fares', 'Base Pay-Per-Ride fare', 2.75]\n",
      "['MetroCard Fares', 'Single ride fare', 3.0]\n",
      "['MetroCard Fares', '30-Day Unlimited Ride', 127.0]\n",
      "['MetroCard Fares', '7-Day Unlimited Ride', 33.0]\n",
      "['MetroCard Fares', 'Express Bus', 6.75]\n",
      "['MetroCard Fares', 'Express Bus Plus 7-Day', 62.0]\n",
      "['Reduced Fares', 'Subway, Local Bus, Select Bus', 1.35]\n",
      "['Reduced Fares', '30-Day Unlimited Ride', 63.5]\n",
      "['Reduced Fares', '7-Day Unlimited Ride', 16.5]\n",
      "['Reduced Fares', 'Express Bus (off-peak only)', 3.35]\n"
     ]
    }
   ],
   "source": [
    "# Inspect the metro_fare_list\n",
    "for metro_fare in metro_fare_list:\n",
    "    print(metro_fare)"
   ]
  },
  {
   "cell_type": "code",
   "execution_count": 5,
   "metadata": {},
   "outputs": [],
   "source": [
    "# Finally! Able to put everything into a Pandas DataFrame\n",
    "import pandas as pd\n",
    "\n",
    "headers = ['Fares Type', 'Card Type', 'Price']\n",
    "metro_df = pd.DataFrame(metro_fare_list,\n",
    "                        columns = headers)"
   ]
  },
  {
   "cell_type": "code",
   "execution_count": 6,
   "metadata": {},
   "outputs": [
    {
     "data": {
      "text/html": [
       "<div>\n",
       "<style scoped>\n",
       "    .dataframe tbody tr th:only-of-type {\n",
       "        vertical-align: middle;\n",
       "    }\n",
       "\n",
       "    .dataframe tbody tr th {\n",
       "        vertical-align: top;\n",
       "    }\n",
       "\n",
       "    .dataframe thead th {\n",
       "        text-align: right;\n",
       "    }\n",
       "</style>\n",
       "<table border=\"1\" class=\"dataframe\">\n",
       "  <thead>\n",
       "    <tr style=\"text-align: right;\">\n",
       "      <th></th>\n",
       "      <th>Fares Type</th>\n",
       "      <th>Card Type</th>\n",
       "      <th>Price</th>\n",
       "    </tr>\n",
       "  </thead>\n",
       "  <tbody>\n",
       "    <tr>\n",
       "      <th>0</th>\n",
       "      <td>MetroCard Fares</td>\n",
       "      <td>Base Pay-Per-Ride fare</td>\n",
       "      <td>2.75</td>\n",
       "    </tr>\n",
       "    <tr>\n",
       "      <th>1</th>\n",
       "      <td>MetroCard Fares</td>\n",
       "      <td>Single ride fare</td>\n",
       "      <td>3.00</td>\n",
       "    </tr>\n",
       "    <tr>\n",
       "      <th>2</th>\n",
       "      <td>MetroCard Fares</td>\n",
       "      <td>30-Day Unlimited Ride</td>\n",
       "      <td>127.00</td>\n",
       "    </tr>\n",
       "    <tr>\n",
       "      <th>3</th>\n",
       "      <td>MetroCard Fares</td>\n",
       "      <td>7-Day Unlimited Ride</td>\n",
       "      <td>33.00</td>\n",
       "    </tr>\n",
       "    <tr>\n",
       "      <th>4</th>\n",
       "      <td>MetroCard Fares</td>\n",
       "      <td>Express Bus</td>\n",
       "      <td>6.75</td>\n",
       "    </tr>\n",
       "    <tr>\n",
       "      <th>5</th>\n",
       "      <td>MetroCard Fares</td>\n",
       "      <td>Express Bus Plus 7-Day</td>\n",
       "      <td>62.00</td>\n",
       "    </tr>\n",
       "    <tr>\n",
       "      <th>6</th>\n",
       "      <td>Reduced Fares</td>\n",
       "      <td>Subway, Local Bus, Select Bus</td>\n",
       "      <td>1.35</td>\n",
       "    </tr>\n",
       "    <tr>\n",
       "      <th>7</th>\n",
       "      <td>Reduced Fares</td>\n",
       "      <td>30-Day Unlimited Ride</td>\n",
       "      <td>63.50</td>\n",
       "    </tr>\n",
       "    <tr>\n",
       "      <th>8</th>\n",
       "      <td>Reduced Fares</td>\n",
       "      <td>7-Day Unlimited Ride</td>\n",
       "      <td>16.50</td>\n",
       "    </tr>\n",
       "    <tr>\n",
       "      <th>9</th>\n",
       "      <td>Reduced Fares</td>\n",
       "      <td>Express Bus (off-peak only)</td>\n",
       "      <td>3.35</td>\n",
       "    </tr>\n",
       "  </tbody>\n",
       "</table>\n",
       "</div>"
      ],
      "text/plain": [
       "        Fares Type                      Card Type   Price\n",
       "0  MetroCard Fares         Base Pay-Per-Ride fare    2.75\n",
       "1  MetroCard Fares               Single ride fare    3.00\n",
       "2  MetroCard Fares          30-Day Unlimited Ride  127.00\n",
       "3  MetroCard Fares           7-Day Unlimited Ride   33.00\n",
       "4  MetroCard Fares                    Express Bus    6.75\n",
       "5  MetroCard Fares         Express Bus Plus 7-Day   62.00\n",
       "6    Reduced Fares  Subway, Local Bus, Select Bus    1.35\n",
       "7    Reduced Fares          30-Day Unlimited Ride   63.50\n",
       "8    Reduced Fares           7-Day Unlimited Ride   16.50\n",
       "9    Reduced Fares    Express Bus (off-peak only)    3.35"
      ]
     },
     "execution_count": 6,
     "metadata": {},
     "output_type": "execute_result"
    }
   ],
   "source": [
    "# Review all the fares\n",
    "metro_df"
   ]
  },
  {
   "cell_type": "code",
   "execution_count": 7,
   "metadata": {},
   "outputs": [
    {
     "data": {
      "text/html": [
       "<div>\n",
       "<style scoped>\n",
       "    .dataframe tbody tr th:only-of-type {\n",
       "        vertical-align: middle;\n",
       "    }\n",
       "\n",
       "    .dataframe tbody tr th {\n",
       "        vertical-align: top;\n",
       "    }\n",
       "\n",
       "    .dataframe thead th {\n",
       "        text-align: right;\n",
       "    }\n",
       "</style>\n",
       "<table border=\"1\" class=\"dataframe\">\n",
       "  <thead>\n",
       "    <tr style=\"text-align: right;\">\n",
       "      <th>Card Type</th>\n",
       "      <th>30-Day Unlimited Ride</th>\n",
       "      <th>7-Day Unlimited Ride</th>\n",
       "      <th>Base Pay-Per-Ride fare</th>\n",
       "      <th>Express Bus</th>\n",
       "      <th>Express Bus (off-peak only)</th>\n",
       "      <th>Express Bus Plus 7-Day</th>\n",
       "      <th>Single ride fare</th>\n",
       "      <th>Subway, Local Bus, Select Bus</th>\n",
       "    </tr>\n",
       "    <tr>\n",
       "      <th>Fares Type</th>\n",
       "      <th></th>\n",
       "      <th></th>\n",
       "      <th></th>\n",
       "      <th></th>\n",
       "      <th></th>\n",
       "      <th></th>\n",
       "      <th></th>\n",
       "      <th></th>\n",
       "    </tr>\n",
       "  </thead>\n",
       "  <tbody>\n",
       "    <tr>\n",
       "      <th>MetroCard Fares</th>\n",
       "      <td>127.0</td>\n",
       "      <td>33.0</td>\n",
       "      <td>2.75</td>\n",
       "      <td>6.75</td>\n",
       "      <td>NaN</td>\n",
       "      <td>62.0</td>\n",
       "      <td>3.0</td>\n",
       "      <td>NaN</td>\n",
       "    </tr>\n",
       "    <tr>\n",
       "      <th>Reduced Fares</th>\n",
       "      <td>63.5</td>\n",
       "      <td>16.5</td>\n",
       "      <td>NaN</td>\n",
       "      <td>NaN</td>\n",
       "      <td>3.35</td>\n",
       "      <td>NaN</td>\n",
       "      <td>NaN</td>\n",
       "      <td>1.35</td>\n",
       "    </tr>\n",
       "  </tbody>\n",
       "</table>\n",
       "</div>"
      ],
      "text/plain": [
       "Card Type        30-Day Unlimited Ride  7-Day Unlimited Ride  \\\n",
       "Fares Type                                                     \n",
       "MetroCard Fares                  127.0                  33.0   \n",
       "Reduced Fares                     63.5                  16.5   \n",
       "\n",
       "Card Type        Base Pay-Per-Ride fare  Express Bus  \\\n",
       "Fares Type                                             \n",
       "MetroCard Fares                    2.75         6.75   \n",
       "Reduced Fares                       NaN          NaN   \n",
       "\n",
       "Card Type        Express Bus (off-peak only)  Express Bus Plus 7-Day  \\\n",
       "Fares Type                                                             \n",
       "MetroCard Fares                          NaN                    62.0   \n",
       "Reduced Fares                           3.35                     NaN   \n",
       "\n",
       "Card Type        Single ride fare  Subway, Local Bus, Select Bus  \n",
       "Fares Type                                                        \n",
       "MetroCard Fares               3.0                            NaN  \n",
       "Reduced Fares                 NaN                           1.35  "
      ]
     },
     "execution_count": 7,
     "metadata": {},
     "output_type": "execute_result"
    }
   ],
   "source": [
    "# Create a pivot: group by fare types, distinct card type, price\n",
    "pivot_df = metro_df.pivot(index='Fares Type', \n",
    "                          columns='Card Type', \n",
    "                          values='Price')\n",
    "\n",
    "# Review the pivoted dataframe\n",
    "pivot_df"
   ]
  },
  {
   "cell_type": "code",
   "execution_count": 9,
   "metadata": {},
   "outputs": [
    {
     "data": {
      "text/plain": [
       "<matplotlib.axes._subplots.AxesSubplot at 0x11d92acf8>"
      ]
     },
     "execution_count": 9,
     "metadata": {},
     "output_type": "execute_result"
    },
    {
     "data": {
      "image/png": "[encoded data removed]",
      "text/plain": [
       "<Figure size 720x720 with 1 Axes>"
      ]
     },
     "metadata": {
      "needs_background": "light"
     },
     "output_type": "display_data"
    }
   ],
   "source": [
    "# https://www.colorhexa.com/74c476\n",
    "colors = [\"#c474c2\", \n",
    "          \"#46a549\", \"#50b553\",\"#62bc64\", \"#74c476\", \"#86cc88\", \"#98d399\", \"#aadbab\"]\n",
    "\n",
    "# https://pstblog.com/2016/10/04/stacked-charts\n",
    "pivot_df.plot.bar(stacked = True, \n",
    "                  color = colors,\n",
    "                  figsize = (10,10))"
   ]
  },
  {
   "cell_type": "code",
   "execution_count": null,
   "metadata": {},
   "outputs": [],
   "source": []
  }
 ],
 "metadata": {
  "kernelspec": {
   "display_name": "Python 3",
   "language": "python",
   "name": "python3"
  },
  "language_info": {
   "codemirror_mode": {
    "name": "ipython",
    "version": 3
   },
   "file_extension": ".py",
   "mimetype": "text/x-python",
   "name": "python",
   "nbconvert_exporter": "python",
   "pygments_lexer": "ipython3",
   "version": "3.7.3"
  }
 },
 "nbformat": 4,
 "nbformat_minor": 2
}
