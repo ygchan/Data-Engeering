{
 "cells": [
  {
   "cell_type": "code",
   "execution_count": 1,
   "metadata": {},
   "outputs": [],
   "source": [
    "# Let's create, process a dataframe with 100M claims records\n",
    "# Do some data processing on it \n",
    "\n",
    "# Idea: My New $300 Data Science PC only have 16GB of RAM.\n",
    "# How to do Data Engineering on any budget?\n",
    "# Answer: To process them pieces at a time :)"
   ]
  },
  {
   "cell_type": "code",
   "execution_count": 2,
   "metadata": {},
   "outputs": [],
   "source": [
    "import pandas as pd\n",
    "import numpy as np\n",
    "import random\n",
    "import math\n",
    "import h5py"
   ]
  },
  {
   "cell_type": "code",
   "execution_count": 3,
   "metadata": {},
   "outputs": [],
   "source": [
    "sample_size = 1000000000"
   ]
  },
  {
   "cell_type": "code",
   "execution_count": 4,
   "metadata": {},
   "outputs": [
    {
     "name": "stdout",
     "output_type": "stream",
     "text": [
      "1000000000\n"
     ]
    }
   ],
   "source": [
    "# number of records to process\n",
    "print(sample_size)\n",
    "\n",
    "# at each iteration i shall process only 1M rows\n",
    "# so I don't crash my Linux machine and server\n",
    "loop_size = 10000000\n",
    "loop_count = math.ceil(sample_size/loop_size)"
   ]
  },
  {
   "cell_type": "code",
   "execution_count": 5,
   "metadata": {
    "scrolled": false
   },
   "outputs": [],
   "source": [
    "def method_01_for_loop(loop_size, loop_count):\n",
    "    for i in range(loop_count):\n",
    "        # write feedback to user on the same line\n",
    "        print('\\r>> processing: {0:.2f}%'.format(i/loop_count*100), sep='', end='')\n",
    "\n",
    "        with open('DW_Claim.txt', 'a') as f:\n",
    "            # this does not work if your range is smaller than sample size\n",
    "            # member_numbers = random.sample(range(99999), loop_size)\n",
    "\n",
    "            member_numbers = [str(int(9999 * random.random())) for _ in range(loop_size)]\n",
    "\n",
    "            for number in member_numbers:\n",
    "                f.write(number)\n",
    "                f.write('\\n')\n",
    "\n",
    "            member_numbers = None\n",
    "        \n",
    "# But this is really really slow, how can I do better?"
   ]
  },
  {
   "cell_type": "code",
   "execution_count": 6,
   "metadata": {},
   "outputs": [],
   "source": [
    "# https://stackoverflow.com/a/27384379\n",
    "# writing a block of code at once\n",
    "\n",
    "def method_02_write_block(loop_size, loop_count):\n",
    "    for i in range(loop_count):\n",
    "        # write feedback to user on the same line\n",
    "        print('\\r>> processing: {0:.2f}%'.format(i/loop_count*100), sep='', end='')\n",
    "\n",
    "        with open('DW_Claim_2.txt', 'a') as f:\n",
    "            f.write('\\n'.join([str(int(9999 * random.random())) for _ in range(loop_size)]))\n",
    "        \n",
    "# What is the effect on how much to \"tune\" your program?"
   ]
  },
  {
   "cell_type": "code",
   "execution_count": 7,
   "metadata": {},
   "outputs": [],
   "source": [
    "# Reference link\n",
    "# https://docs.scipy.org/doc/numpy-1.14.0/reference/generated/numpy.random.randint.html#numpy.random.randint\n",
    "\n",
    "def method_03_hdf5(loop_size, loop_count):\n",
    "    s = pd.Series(np.random.randint(1000, 9999, size=loop_size, dtype='int16'))\n",
    "    f = h5py.File('myfile.hdf5','w')\n",
    "    group = f.create_group('a_group')\n",
    "    group.create_dataset(name='matrix', data=s, chunks=True, compression='gzip')\n",
    "    f.close()\n",
    "    s = None\n",
    "\n",
    "# How to print percentage to 2 decimal points?\n",
    "# https://stackoverflow.com/a/455634\n",
    "\n",
    "# How to print on the same line\n",
    "# https://stackoverflow.com/q/7715594"
   ]
  },
  {
   "cell_type": "code",
   "execution_count": 8,
   "metadata": {},
   "outputs": [
    {
     "name": "stdout",
     "output_type": "stream",
     "text": [
      ">> processing: 90.00%CPU times: user 1min 6s, sys: 2.44 s, total: 1min 9s\n",
      "Wall time: 1min 9s\n"
     ]
    }
   ],
   "source": [
    "%time method_01_for_loop(10000000, 10)"
   ]
  },
  {
   "cell_type": "code",
   "execution_count": 9,
   "metadata": {
    "scrolled": true
   },
   "outputs": [
    {
     "name": "stdout",
     "output_type": "stream",
     "text": [
      ">> processing: 90.00%CPU times: user 42.7 s, sys: 2.32 s, total: 45 s\n",
      "Wall time: 45.1 s\n"
     ]
    }
   ],
   "source": [
    "%time method_02_write_block(10000000, 10)"
   ]
  },
  {
   "cell_type": "code",
   "execution_count": 10,
   "metadata": {},
   "outputs": [
    {
     "name": "stdout",
     "output_type": "stream",
     "text": [
      "CPU times: user 6.33 s, sys: 196 ms, total: 6.52 s\n",
      "Wall time: 9.95 s\n"
     ]
    }
   ],
   "source": [
    "%time method_03_hdf5(100000000, 1)"
   ]
  },
  {
   "cell_type": "code",
   "execution_count": 20,
   "metadata": {},
   "outputs": [
    {
     "data": {
      "text/plain": [
       "<matplotlib.axes._subplots.AxesSubplot at 0x7f09cadd5f10>"
      ]
     },
     "execution_count": 20,
     "metadata": {},
     "output_type": "execute_result"
    },
    {
     "data": {
      "image/png": "[encoded data removed]",
      "text/plain": [
       "<Figure size 720x720 with 1 Axes>"
      ]
     },
     "metadata": {
      "needs_background": "light"
     },
     "output_type": "display_data"
    }
   ],
   "source": [
    "# Execution Time Analysis for 100M rows generate\n",
    "df = pd.DataFrame([['For Loop Write', 69],\n",
    "                  ['For Loop Block Write', 45],\n",
    "                  ['HDF5 Write', 9.95]], columns=['Method', 'Time'])\n",
    "\n",
    "df.plot.bar(x='Method', y='Time', figsize=(10, 10), rot=False)"
   ]
  },
  {
   "cell_type": "code",
   "execution_count": null,
   "metadata": {},
   "outputs": [],
   "source": []
  }
 ],
 "metadata": {
  "kernelspec": {
   "display_name": "Python 3",
   "language": "python",
   "name": "python3"
  },
  "language_info": {
   "codemirror_mode": {
    "name": "ipython",
    "version": 3
   },
   "file_extension": ".py",
   "mimetype": "text/x-python",
   "name": "python",
   "nbconvert_exporter": "python",
   "pygments_lexer": "ipython3",
   "version": "3.7.4"
  }
 },
 "nbformat": 4,
 "nbformat_minor": 2
}
