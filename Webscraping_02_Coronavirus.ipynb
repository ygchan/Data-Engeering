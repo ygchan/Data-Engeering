{
 "cells": [
  {
   "cell_type": "code",
   "execution_count": 1,
   "metadata": {},
   "outputs": [],
   "source": [
    "# Inspired by: Python Web Scraping with Beautiful Soup and Regex\n",
    "# https://www.youtube.com/watch?v=F1kZ39SvuGE\n",
    "\n",
    "# Practice web scraping using BS4\n",
    "# Website: CDC Cornoavirus Website\n",
    "\n",
    "import requests\n",
    "from bs4 import BeautifulSoup"
   ]
  },
  {
   "cell_type": "code",
   "execution_count": 2,
   "metadata": {},
   "outputs": [],
   "source": [
    "# get the data\n",
    "data = requests.get(\"https://www.cdc.gov/coronavirus/2019-ncov/cases-in-us.html\")\n",
    "\n",
    "# load data into bs4\n",
    "soup = BeautifulSoup(data.text, \"html.parser\")"
   ]
  },
  {
   "cell_type": "code",
   "execution_count": 3,
   "metadata": {},
   "outputs": [
    {
     "name": "stdout",
     "output_type": "stream",
     "text": [
      "String:    Travel-related\n",
      "Number:    22\n",
      "String:    Person-to-person spread\n",
      "Number:    11\n",
      "String:    Under Investigation\n",
      "Number:    27\n",
      "String:    Total cases\n",
      "Number:    60\n",
      "\n",
      "['Travel-related', 'Person-to-person spread', 'Under Investigation', 'Total cases']\n",
      "[22, 11, 27, 60]\n"
     ]
    }
   ],
   "source": [
    "# Look for the table with 2019coronavirus\n",
    "div = soup.find('div', {'class': '2019coronavirus'})\n",
    "\n",
    "category_list = []\n",
    "count_list = []\n",
    "\n",
    "for tr in div.find_all('td'):\n",
    "    # The current loop's text, it can be category or number\n",
    "    new_data = tr.text\n",
    "    \n",
    "    # Check if this is a count or not\n",
    "    if new_data.isnumeric():\n",
    "        print(\"Number:\".ljust(10), new_data)\n",
    "        count_list.append(int(new_data))\n",
    "    else:\n",
    "        print(\"String:\".ljust(10), new_data)\n",
    "        category_list.append(new_data)\n",
    "    \n",
    "# Review the lists\n",
    "print()\n",
    "print(category_list)\n",
    "print(count_list)"
   ]
  },
  {
   "cell_type": "code",
   "execution_count": 4,
   "metadata": {},
   "outputs": [],
   "source": [
    "import pandas as pd\n",
    "\n",
    "headers = ['category', 'count']\n",
    "\n",
    "# Creating the list of list here\n",
    "data_list = []\n",
    "for i in range(len(category_list)):\n",
    "    data_list.append([category_list[i], count_list[i]])\n",
    "\n",
    "cov19_df = pd.DataFrame(data_list, columns = headers)"
   ]
  },
  {
   "cell_type": "code",
   "execution_count": 5,
   "metadata": {},
   "outputs": [
    {
     "data": {
      "text/html": [
       "<div>\n",
       "<style scoped>\n",
       "    .dataframe tbody tr th:only-of-type {\n",
       "        vertical-align: middle;\n",
       "    }\n",
       "\n",
       "    .dataframe tbody tr th {\n",
       "        vertical-align: top;\n",
       "    }\n",
       "\n",
       "    .dataframe thead th {\n",
       "        text-align: right;\n",
       "    }\n",
       "</style>\n",
       "<table border=\"1\" class=\"dataframe\">\n",
       "  <thead>\n",
       "    <tr style=\"text-align: right;\">\n",
       "      <th></th>\n",
       "      <th>category</th>\n",
       "      <th>count</th>\n",
       "    </tr>\n",
       "  </thead>\n",
       "  <tbody>\n",
       "    <tr>\n",
       "      <th>0</th>\n",
       "      <td>Travel-related</td>\n",
       "      <td>22</td>\n",
       "    </tr>\n",
       "    <tr>\n",
       "      <th>1</th>\n",
       "      <td>Person-to-person spread</td>\n",
       "      <td>11</td>\n",
       "    </tr>\n",
       "    <tr>\n",
       "      <th>2</th>\n",
       "      <td>Under Investigation</td>\n",
       "      <td>27</td>\n",
       "    </tr>\n",
       "    <tr>\n",
       "      <th>3</th>\n",
       "      <td>Total cases</td>\n",
       "      <td>60</td>\n",
       "    </tr>\n",
       "  </tbody>\n",
       "</table>\n",
       "</div>"
      ],
      "text/plain": [
       "                  category  count\n",
       "0           Travel-related     22\n",
       "1  Person-to-person spread     11\n",
       "2      Under Investigation     27\n",
       "3              Total cases     60"
      ]
     },
     "execution_count": 5,
     "metadata": {},
     "output_type": "execute_result"
    }
   ],
   "source": [
    "# Review the dataframe we created\n",
    "cov19_df"
   ]
  },
  {
   "cell_type": "code",
   "execution_count": 6,
   "metadata": {
    "scrolled": true
   },
   "outputs": [],
   "source": [
    "# Simple Bar Graph\n",
    "ax = cov19_df.plot.bar(x='category', y='count', rot=0, figsize=(10,5))"
   ]
  }
 ],
 "metadata": {
  "kernelspec": {
   "display_name": "Python 3",
   "language": "python",
   "name": "python3"
  },
  "language_info": {
   "codemirror_mode": {
    "name": "ipython",
    "version": 3
   },
   "file_extension": ".py",
   "mimetype": "text/x-python",
   "name": "python",
   "nbconvert_exporter": "python",
   "pygments_lexer": "ipython3",
   "version": "3.7.3"
  }
 },
 "nbformat": 4,
 "nbformat_minor": 2
}
