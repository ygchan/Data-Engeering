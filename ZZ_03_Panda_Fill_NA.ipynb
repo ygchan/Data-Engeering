{
 "cells": [
  {
   "cell_type": "code",
   "execution_count": 3,
   "metadata": {},
   "outputs": [],
   "source": [
    "# Filling missing values with group-specific values\n",
    "import pandas as pd\n",
    "import numpy as np"
   ]
  },
  {
   "cell_type": "code",
   "execution_count": 4,
   "metadata": {},
   "outputs": [],
   "source": [
    "s = pd.Series(np.random.randn(6))"
   ]
  },
  {
   "cell_type": "code",
   "execution_count": 5,
   "metadata": {},
   "outputs": [
    {
     "data": {
      "text/plain": [
       "0         NaN\n",
       "1    0.617156\n",
       "2         NaN\n",
       "3    1.254529\n",
       "4         NaN\n",
       "5   -1.583634\n",
       "dtype: float64"
      ]
     },
     "execution_count": 5,
     "metadata": {},
     "output_type": "execute_result"
    }
   ],
   "source": [
    "s[::2] = np.nan\n",
    "s"
   ]
  },
  {
   "cell_type": "code",
   "execution_count": 6,
   "metadata": {},
   "outputs": [
    {
     "data": {
      "text/plain": [
       "0    0.096017\n",
       "1    0.617156\n",
       "2    0.096017\n",
       "3    1.254529\n",
       "4    0.096017\n",
       "5   -1.583634\n",
       "dtype: float64"
      ]
     },
     "execution_count": 6,
     "metadata": {},
     "output_type": "execute_result"
    }
   ],
   "source": [
    "# fill in the missing value with mean.\n",
    "s.fillna(s.mean())"
   ]
  },
  {
   "cell_type": "code",
   "execution_count": 74,
   "metadata": {},
   "outputs": [
    {
     "name": "stdout",
     "output_type": "stream",
     "text": [
      "Original Pandas DataFrame:\n",
      "   claim_number claim_status\n",
      "0          1142         PAID\n",
      "1          3313         PAID\n",
      "2          2898         PAID\n",
      "3          1409         PAID\n",
      "4          3582         PAID \n",
      "\n",
      "After make modification:\n",
      "   claim_number claim_status\n",
      "0          1142          NaN\n",
      "1          3313         PAID\n",
      "2          2898          NaN\n",
      "3          1409         PAID\n",
      "4          3582          NaN \n",
      "\n",
      "Finally used fillna():\n",
      "   claim_number claim_status\n",
      "0          1142      PENDING\n",
      "1          3313         PAID\n",
      "2          2898      PENDING\n",
      "3          1409         PAID\n",
      "4          3582      PENDING \n",
      "\n"
     ]
    }
   ],
   "source": [
    "# Healthcare Examples\n",
    "# Imagine you have claims status column with missing data\n",
    "\n",
    "s = pd.DataFrame(np.random.randint(1000, 4000, size=(10, 1)),\n",
    "                 columns = [\"claim_number\"])\n",
    "\n",
    "# add the status\n",
    "s[\"claim_status\"] = \"PAID\"\n",
    "\n",
    "# sample our dummy claim dataframe\n",
    "print('Original Pandas DataFrame:')\n",
    "print(s.head(), '\\n')\n",
    "\n",
    "# create blanks every 2 row\n",
    "# this is how you assign a dummy value to column \"claim_status\"\n",
    "# every 2 rows from 0 to end of the rows\n",
    "# reference: https://stackoverflow.com/a/53371671\n",
    "s.loc[::2, \"claim_status\"] = np.nan\n",
    "\n",
    "# re-sample\n",
    "print('After make modification:')\n",
    "print(s.head(), '\\n')\n",
    "\n",
    "# Let's fill the empty claim_status with \"Pending\"\n",
    "s[\"claim_status\"] = s[\"claim_status\"].fillna(\"PENDING\")\n",
    "print('Finally used fillna():')\n",
    "print(s.head(), '\\n')"
   ]
  },
  {
   "cell_type": "code",
   "execution_count": 79,
   "metadata": {
    "scrolled": true
   },
   "outputs": [
    {
     "name": "stdout",
     "output_type": "stream",
     "text": [
      "   member_number coverage\n",
      "0           4833   ACTIVE\n",
      "1           8779   ACTIVE\n",
      "2           3206   ACTIVE\n",
      "3           8302      NaN\n",
      "4           5392      NaN \n",
      "\n",
      "   member_number coverage\n",
      "0           4833   ACTIVE\n",
      "1           8779   ACTIVE\n",
      "2           3206   ACTIVE\n",
      "3           8302  PENDING\n",
      "4           5392  PENDING \n",
      "\n"
     ]
    }
   ],
   "source": [
    "# Healthcare Examples #2\n",
    "# Imagine you have eligiblity coloumn with missing data\n",
    "\n",
    "# note this is the same as \n",
    "#   pd.DataFrame(np.random.randint(0, 9000, size=(10, 1))...) !\n",
    "e = pd.DataFrame(np.random.randint(9000, size=(10, 1)),\n",
    "                 columns = [\"member_number\"])\n",
    "\n",
    "# add the member status\n",
    "e[\"coverage\"] = \"ACTIVE\"\n",
    "# print(e.head(), '\\n')\n",
    "\n",
    "# make some changes\n",
    "e.loc[3::, \"coverage\"] = np.nan\n",
    "print(e.head(), '\\n')\n",
    "\n",
    "e[\"coverage\"] = e[\"coverage\"].fillna(\"PENDING\")\n",
    "print(e.head(), '\\n')"
   ]
  },
  {
   "cell_type": "code",
   "execution_count": 91,
   "metadata": {},
   "outputs": [
    {
     "name": "stdout",
     "output_type": "stream",
     "text": [
      "Original DataFrame:\n",
      "   member_number effective_date\n",
      "0           7292     1928-09-17\n",
      "1           6594     1952-06-14\n",
      "2           5585     1943-06-23\n",
      "3           6316     1921-01-08\n",
      "4           6426     1932-03-25\n",
      "5           7781     1954-07-05\n",
      "6           6884     1961-09-03\n",
      "7           2798     1982-04-24\n",
      "8           6157     1934-07-22\n",
      "9           7611     1934-08-04 \n",
      "\n",
      "Converted to First of Month:\n",
      "   member_number effective_date first_of_month last_of_month\n",
      "0           7292     1928-09-17     1928-09-01    1928-09-30\n",
      "1           6594     1952-06-14     1952-06-01    1952-06-30\n",
      "2           5585     1943-06-23     1943-06-01    1943-06-30\n",
      "3           6316     1921-01-08     1921-01-01    1921-01-31\n",
      "4           6426     1932-03-25     1932-03-01    1932-03-31\n",
      "5           7781     1954-07-05     1954-07-01    1954-07-31\n",
      "6           6884     1961-09-03     1961-09-01    1961-09-30\n",
      "7           2798     1982-04-24     1982-04-01    1982-04-30\n",
      "8           6157     1934-07-22     1934-07-01    1934-07-31\n",
      "9           7611     1934-08-04     1934-08-01    1934-08-31\n"
     ]
    }
   ],
   "source": [
    "# Healthcare Example #3\n",
    "# Imagine you have effective date with missing data\n",
    "\n",
    "m = pd.DataFrame(np.random.randint(1000, 9000, size=(10, 1)),\n",
    "                 columns=[\"member_number\"])\n",
    "\n",
    "# add a random date\n",
    "# https://stackoverflow.com/a/53054918\n",
    "min_date = pd.to_datetime('1920-01-01')\n",
    "max_date = pd.to_datetime('1990-12-31')\n",
    "\n",
    "# find out the max number of dates you allow\n",
    "d = (max_date - min_date).days + 1\n",
    "\n",
    "# generate a random date for this column\n",
    "m['effective_date'] = min_date + pd.to_timedelta(pd.np.random.randint(d, size=10), unit='d')\n",
    "print('Original DataFrame:')\n",
    "print(m, '\\n')\n",
    "\n",
    "# %timeit df['month3'] = (df['purchase_date'] - pd.offsets.MonthBegin(1)).dt.floor('d')\n",
    "# 100 loops, best of 3: 12.8 ms per loop\n",
    "\n",
    "# convert the effective_date to first of the month\n",
    "# convert the effective_date to end of the month\n",
    "print('Converted to First of Month:')\n",
    "m['first_of_month'] = (m['effective_date'] - pd.offsets.MonthBegin(1)).dt.floor('d')\n",
    "m['last_of_month'] = (m['effective_date'] + pd.offsets.MonthEnd(1)).dt.floor('d')\n",
    "print(m)"
   ]
  }
 ],
 "metadata": {
  "kernelspec": {
   "display_name": "Python 3",
   "language": "python",
   "name": "python3"
  },
  "language_info": {
   "codemirror_mode": {
    "name": "ipython",
    "version": 3
   },
   "file_extension": ".py",
   "mimetype": "text/x-python",
   "name": "python",
   "nbconvert_exporter": "python",
   "pygments_lexer": "ipython3",
   "version": "3.7.4"
  }
 },
 "nbformat": 4,
 "nbformat_minor": 2
}
